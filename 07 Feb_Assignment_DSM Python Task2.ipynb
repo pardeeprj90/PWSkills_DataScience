{
 "cells": [
  {
   "cell_type": "code",
   "execution_count": 28,
   "id": "a156f504-4c48-4c47-9ada-bf8ddacb9125",
   "metadata": {},
   "outputs": [
    {
     "name": "stdout",
     "output_type": "stream",
     "text": [
      "invalid Password\n"
     ]
    }
   ],
   "source": [
    "# Q1. You are writing code for a company. The requirement of the company is that you create a python\n",
    "# function that will check whether the password entered by the user is correct or not. The function should\n",
    "# take the password as input and return the string “Valid Password” if the entered password follows the\n",
    "# below-given password guidelines else it should return “Invalid Password”.\n",
    "# Note: 1. The Password should contain at least two uppercase letters and at least two lowercase letters.\n",
    "# 2. The Password should contain at least a number and three special characters.\n",
    "# 3. The length of the password should be 10 characters long.\n",
    "\n",
    "def validatePassword(password):\n",
    "    # Count the number of uppercase and lowercase letters\n",
    "    spclAllowedChars = special_characters = [\"!\", '@', '#', '$', '%', '^', '&', '*', '(', ')', '-', '_', '+', '=', '{', '}', '[', ']', '\\\\', '|', '>', '<', '?', '/']\n",
    "    # spclCharCount = 0\n",
    "    upperLetterCount= sum(1 for char in password if char.isupper())\n",
    "    lowerLetterCount= sum(1 for char in password if char.islower())\n",
    "    \n",
    "#     Condition 1\n",
    "    if upperLetterCount <2 or lowerLetterCount <2:\n",
    "        return \"invalid Password\"\n",
    "        \n",
    "#     Condition 2        \n",
    "    digitCount = sum(1 for char in password if (char.isdigit()))\n",
    "    # print (digitCount)\n",
    "    \n",
    "    if digitCount==0:\n",
    "        return \"invalid Password\"\n",
    "        \n",
    "#     Condition 3\n",
    "    spclCharCount = sum(1 for char in password if char in spclAllowedChars)\n",
    "    print(spclCharCount)\n",
    "    if spclCharCount <3:\n",
    "        return \"invalid Password\"\n",
    "            \n",
    "        \n",
    "ValidationOutput = validatePassword(\"Pardee()p1\")  \n",
    "print(ValidationOutput)"
   ]
  },
  {
   "cell_type": "code",
   "execution_count": 2,
   "id": "2814d790-831b-4d36-a1ec-84b66ba66bba",
   "metadata": {},
   "outputs": [
    {
     "name": "stdout",
     "output_type": "stream",
     "text": [
      "word Pardeep doesn't start with letter p \n"
     ]
    }
   ],
   "source": [
    "# Q2. Solve the below-given questions using at least one of the following:\n",
    "# 1. Lambda function\n",
    "# 2. Filter function\n",
    "# 3. Zap function\n",
    "# 4. List Comprehension\n",
    "\n",
    "# Check if the string starts with a particular letter\n",
    "\n",
    "# Sort a list of tuples having fruit names and their quantity. [(\"mango\",99),(\"orange\",80), (\"grapes\", 1000)-\n",
    "# Find the squares of numbers from 1 to 10\n",
    "# Find the cube root of numbers from 1 to 10\n",
    "# Check if a given number is even\n",
    "# Filter odd numbers from the given list.\n",
    "# [1,2,3,4,5,6,7,8,9,10-\n",
    "# Sort a list of integers into positive and negative integers lists.\n",
    "# [1,2,3,4,5,6,-1,-2,-3,-4,-5,0]\n",
    "\n",
    "# Check if the string starts with a particular letter\n",
    "\n",
    "word = \"Pardeep\"\n",
    "expectedStartletter = 'p'\n",
    "if word.startswith(expectedStartletter):\n",
    "    print(f\"word {word} starts with letter {expectedStartletter} \")\n",
    "    \n",
    "else:\n",
    "    print(f\"word {word} doesn't start with letter {expectedStartletter} \")\n",
    "    "
   ]
  },
  {
   "cell_type": "code",
   "execution_count": 3,
   "id": "f9428c9b-4b96-4e19-886c-b2c1c3b7af63",
   "metadata": {},
   "outputs": [
    {
     "name": "stdout",
     "output_type": "stream",
     "text": [
      "True\n",
      "False\n"
     ]
    }
   ],
   "source": [
    "# Check if the string is numeric\n",
    "\n",
    "is_numeric = lambda s: s.isnumeric()\n",
    "\n",
    "# Example usage\n",
    "print(is_numeric(\"123\"))  # True\n",
    "print(is_numeric(\"abc\"))  # False"
   ]
  },
  {
   "cell_type": "code",
   "execution_count": 8,
   "id": "d046d58c-4c46-41ec-83cd-ceaaddbcdf35",
   "metadata": {},
   "outputs": [
    {
     "name": "stdout",
     "output_type": "stream",
     "text": [
      "[1, 3, 5, 7, 9]\n"
     ]
    }
   ],
   "source": [
    "# Filter odd numbers from the given list: [1, 2, 3, 4, 5, 6, 7, 8, 9, 10]\n",
    "\n",
    "numbers = [1, 2, 3, 4, 5, 6, 7, 8, 9, 10]\n",
    "odd_numbers = list(filter(lambda x: x % 2 != 0, numbers))\n",
    "print(odd_numbers)"
   ]
  },
  {
   "cell_type": "code",
   "execution_count": 3,
   "id": "37acbcb4-74a0-4580-9a16-8a2605706f44",
   "metadata": {},
   "outputs": [
    {
     "name": "stdout",
     "output_type": "stream",
     "text": [
      "[1, 2, 3, 4, 5, 6]\n",
      "[-1, -2, -3, -4, -5]\n"
     ]
    }
   ],
   "source": [
    "# Sort a list of integers into positive and negative integers lists:[1, 2, 3, 4, 5, 6, -1, -2, -3, -4, -5, 0]\n",
    "numbers = [1, 2, 3, 4, 5, 6, -1, -2, -3, -4, -5, 0]\n",
    "positive_numbers = [x for x in numbers if x > 0]\n",
    "negative_numbers = [x for x in numbers if x < 0]\n",
    "\n",
    "print(positive_numbers)\n",
    "print(negative_numbers)"
   ]
  },
  {
   "cell_type": "code",
   "execution_count": 7,
   "id": "5cf58e66-f020-43b4-a74d-4f14d3be790e",
   "metadata": {},
   "outputs": [
    {
     "name": "stdout",
     "output_type": "stream",
     "text": [
      "[('orange', 80), ('mango', 99), ('grapes', 1000)]\n"
     ]
    }
   ],
   "source": [
    "# Sort a list of tuples having fruit names and their quantity. [(\"mango\",99),(\"orange\",80), (\"grapes\", 1000)\n",
    "fruits = [(\"mango\", 99), (\"orange\", 80), (\"grapes\", 1000)]\n",
    "sorted_fruits = sorted(fruits, key=lambda x: x[1])\n",
    "print(sorted_fruits)"
   ]
  },
  {
   "cell_type": "code",
   "execution_count": 9,
   "id": "c6f92164-77af-48f2-ad0a-1484d7fca9c6",
   "metadata": {},
   "outputs": [
    {
     "name": "stdout",
     "output_type": "stream",
     "text": [
      "[1, 4, 9, 16, 25, 36, 49, 64, 81, 100]\n"
     ]
    }
   ],
   "source": [
    "# Find the squares of numbers from 1 to 10\n",
    "\n",
    "squares = [x**2 for x in range(1,11)]\n",
    "print(squares)"
   ]
  },
  {
   "cell_type": "code",
   "execution_count": 16,
   "id": "8a5686a5-f962-45f7-b547-1b0b0b09d9f7",
   "metadata": {},
   "outputs": [
    {
     "name": "stdout",
     "output_type": "stream",
     "text": [
      "[1, 8, 27, 64, 125, 216, 343, 512, 729, 1000]\n"
     ]
    }
   ],
   "source": [
    "# Find the Qube of numbers from 1 to 10\n",
    "qube = [x**3 for x in range(1,11)]\n",
    "print(qube)"
   ]
  }
 ],
 "metadata": {
  "kernelspec": {
   "display_name": "Python 3 (ipykernel)",
   "language": "python",
   "name": "python3"
  },
  "language_info": {
   "codemirror_mode": {
    "name": "ipython",
    "version": 3
   },
   "file_extension": ".py",
   "mimetype": "text/x-python",
   "name": "python",
   "nbconvert_exporter": "python",
   "pygments_lexer": "ipython3",
   "version": "3.10.8"
  }
 },
 "nbformat": 4,
 "nbformat_minor": 5
}
