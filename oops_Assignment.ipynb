{
 "cells": [
  {
   "cell_type": "markdown",
   "id": "db93ab5f-def5-48cf-bd86-48a39d3e777d",
   "metadata": {},
   "source": [
    "Q1. Explain Class and Object with respect to Object-Oriented Programming. Give a suitable example."
   ]
  },
  {
   "cell_type": "markdown",
   "id": "8562f693-eea4-42dd-92dc-5f5e7cb295e1",
   "metadata": {},
   "source": [
    "In object-oriented programming (OOP), a class is a blueprint or template that defines the structure and behavior of objects. It serves as a blueprint for creating individual instances of objects, which are known as objects or instances of the class. A class defines the properties (attributes) and behaviors (methods) that an object of that class can have.\n",
    "\n",
    "An object, on the other hand, is an instance of a class. It represents a specific entity or concept based on the defined class. Objects are created from classes, and each object can have its own unique state (values of attributes) and behavior (methods)."
   ]
  },
  {
   "cell_type": "code",
   "execution_count": 1,
   "id": "3e8ae11b-7c5f-4f09-9a7e-e4e13c3acc38",
   "metadata": {},
   "outputs": [],
   "source": [
    "class students:\n",
    "    def __init__(self, student_name, student_phone_nbr, student_email_id, student_id):\n",
    "        self.student_name = student_name\n",
    "        self.student_phone_nbr = student_phone_nbr\n",
    "        self.student_email_id = student_email_id\n",
    "        self.student_id = student_id"
   ]
  },
  {
   "cell_type": "code",
   "execution_count": 4,
   "id": "d7dba162-9f5b-42fc-9d66-526301fda0d5",
   "metadata": {},
   "outputs": [
    {
     "name": "stdout",
     "output_type": "stream",
     "text": [
      "Pardeep Kumar\n"
     ]
    }
   ],
   "source": [
    "# Here we are creating object of class and passing the students parameters\n",
    "\n",
    "stdnt = students('Pardeep Kumar',8440053189,'pardeep.rj90@gmail.com',1001)\n",
    "print(stdnt.student_name)"
   ]
  },
  {
   "cell_type": "markdown",
   "id": "37943817-4fdb-4e64-8664-7aa792a7c857",
   "metadata": {},
   "source": [
    "Q2. Name the four pillars of OOPs. \n",
    "Ans:- Abstraction, Encapsulation, Polymorphism, Inheritance"
   ]
  },
  {
   "cell_type": "markdown",
   "id": "dd94dc9a-f9ae-4511-8921-158264085529",
   "metadata": {},
   "source": [
    "Q3. Explain why the __init__() function is used. Give a suitable example.\n",
    "\n",
    "Ans:- __init__() act as consutructor is used in object-oriented programming languages to initialize the attributes or properties of an object when it is created. It is automatically called when an instance of a class is created and allows us to set the initial state of the object."
   ]
  },
  {
   "cell_type": "code",
   "execution_count": 11,
   "id": "ced9a762-53ce-439a-8122-664bd4218af7",
   "metadata": {},
   "outputs": [],
   "source": [
    "class students:\n",
    "    def __init__(self, student_name, student_phone_nbr, student_email_id, student_id):\n",
    "        self.student_name = student_name\n",
    "        self.student_phone_nbr = student_phone_nbr\n",
    "        self.student_email_id = student_email_id\n",
    "        self.student_id = student_id\n",
    "    \n",
    "    def return_student_detail(self):\n",
    "        return self.student_id, self.student_name, self.student_phone_nbr, self.student_email_id"
   ]
  },
  {
   "cell_type": "code",
   "execution_count": 12,
   "id": "4ba0d483-2f93-4640-a20a-7534a4467353",
   "metadata": {},
   "outputs": [
    {
     "data": {
      "text/plain": [
       "(1001, 'Pardeep Kumar', 8440053189, 'pardeep.rj90@gmail.com')"
      ]
     },
     "execution_count": 12,
     "metadata": {},
     "output_type": "execute_result"
    }
   ],
   "source": [
    "std = students('Pardeep Kumar',8440053189,'pardeep.rj90@gmail.com',1001)\n",
    "std.return_student_detail()"
   ]
  },
  {
   "cell_type": "markdown",
   "id": "5919eaf6-3d4a-45f0-b9f0-1ac1c6cc822e",
   "metadata": {},
   "source": [
    "Q4. Why self is used in OOPs?\n",
    "\n",
    "Ans:- \n",
    "In object-oriented programming (OOP), self is a reference variable which is used to refer to the current instance of a class. It is a common convention to use self as the first parameter in method definitions within a class.\n",
    "\n",
    "The self parameter allows methods to access and manipulate the attributes and methods of an object. When a method is called on an object, the self parameter provides a way to refer to the specific instance of the class on which the method is being invoked."
   ]
  },
  {
   "cell_type": "markdown",
   "id": "8898c667-c9ed-4879-8445-53533d56afad",
   "metadata": {},
   "source": [
    "Q5. What is inheritance? Give an example for each type of inheritance.\n",
    "Ans:-\n",
    "Inheritance is a fundamental concept in object-oriented programming (OOP) that allows one class to inherit the properties and methods of another class. It provides a way to create new classes (derived classes or subclasses) based on existing classes (base classes or superclasses), thereby enabling code reuse and promoting the principle of modularity.\n",
    "\n",
    "The derived class inherits the attributes and behaviors of the base class, and it can also add its own unique attributes and behaviors or override the inherited ones. Inheritance allows for the creation of a hierarchy of classes, where classes at higher levels provide more general characteristics, while classes at lower levels specialize and extend those characteristics."
   ]
  },
  {
   "cell_type": "code",
   "execution_count": 13,
   "id": "5e33658d-054b-4e8e-b942-7721aaad79e3",
   "metadata": {},
   "outputs": [
    {
     "name": "stdout",
     "output_type": "stream",
     "text": [
      "Eating...\n",
      "Woof!\n"
     ]
    }
   ],
   "source": [
    "# Single Inheritance:\n",
    "class Animal:\n",
    "    def eat(self):\n",
    "        print(\"Eating...\")\n",
    "\n",
    "class Dog(Animal):\n",
    "    def bark(self):\n",
    "        print(\"Woof!\")\n",
    "\n",
    "dog = Dog()\n",
    "dog.eat()  # Inherited from Animal class\n",
    "dog.bark()  # Defined in Dog class"
   ]
  },
  {
   "cell_type": "code",
   "execution_count": 15,
   "id": "6b5e67e5-4277-46ed-bed5-e6c92d6f79ae",
   "metadata": {},
   "outputs": [
    {
     "name": "stdout",
     "output_type": "stream",
     "text": [
      "Flying...\n",
      "Swimming...\n",
      "Quack!\n"
     ]
    }
   ],
   "source": [
    "# Multiple Inheritance: Multiple inheritance allows a derived class to inherit from multiple base classes. \n",
    "# It enables the derived class to inherit attributes and behaviors from multiple sources. Here's an example:\n",
    "class Flyable:\n",
    "    def fly(self):\n",
    "        print(\"Flying...\")\n",
    "\n",
    "class Swimmable:\n",
    "    def swim(self):\n",
    "        print(\"Swimming...\")\n",
    "\n",
    "class Duck(Flyable, Swimmable):\n",
    "    def quack(self):\n",
    "        print(\"Quack!\")\n",
    "\n",
    "duck = Duck()\n",
    "duck.fly()  # Inherited from Flyable class\n",
    "duck.swim()  # Inherited from Swimmable class\n",
    "duck.quack()  # Defined in Duck class"
   ]
  },
  {
   "cell_type": "code",
   "execution_count": 16,
   "id": "5714b4a2-7004-486e-9107-b2f13de2df23",
   "metadata": {},
   "outputs": [
    {
     "name": "stdout",
     "output_type": "stream",
     "text": [
      "Eating...\n",
      "Woof!\n",
      "Guarding...\n"
     ]
    }
   ],
   "source": [
    "# Multilevel Inheritance: Multilevel inheritance involves creating a chain of inheritance, \n",
    "#where a derived class inherits from a base class, and another class inherits from the derived class. \n",
    "#It forms a hierarchical structure. Here's an example:\n",
    "\n",
    "class Animal:\n",
    "    def eat(self):\n",
    "        print(\"Eating...\")\n",
    "\n",
    "class Dog(Animal):\n",
    "    def bark(self):\n",
    "        print(\"Woof!\")\n",
    "\n",
    "class Bulldog(Dog):\n",
    "    def guard(self):\n",
    "        print(\"Guarding...\")\n",
    "\n",
    "bulldog = Bulldog()\n",
    "bulldog.eat()  # Inherited from Animal class\n",
    "bulldog.bark()  # Inherited from Dog class\n",
    "bulldog.guard()  # Defined in Bulldog class\n"
   ]
  }
 ],
 "metadata": {
  "kernelspec": {
   "display_name": "Python 3 (ipykernel)",
   "language": "python",
   "name": "python3"
  },
  "language_info": {
   "codemirror_mode": {
    "name": "ipython",
    "version": 3
   },
   "file_extension": ".py",
   "mimetype": "text/x-python",
   "name": "python",
   "nbconvert_exporter": "python",
   "pygments_lexer": "ipython3",
   "version": "3.10.8"
  }
 },
 "nbformat": 4,
 "nbformat_minor": 5
}
