{
 "cells": [
  {
   "cell_type": "code",
   "execution_count": 32,
   "id": "23a64766-67e0-4dbc-b0f4-83fc50e05958",
   "metadata": {},
   "outputs": [],
   "source": [
    "### Q1. Create a function which will take a list as an argument and return the product of all the numbers\n",
    "### after creating a flat list.\n",
    "### Use the below-given list as an argument for your function.\n",
    "### list1 = [1,2,3,4, [44,55,66, True], False, (34,56,78,89,34), {1,2,3,3,2,1}, {1:34, \"key2\": [55, 67, 78, 89], 4: (45,\n",
    "### 22, 61, 34)}, [56, 'data science'], 'Machine Learning']### "
   ]
  },
  {
   "cell_type": "code",
   "execution_count": 33,
   "id": "41d77aeb-ea15-4135-9229-c92f30e6c519",
   "metadata": {},
   "outputs": [],
   "source": [
    "list1 = [1,2,3,4, [44,55,66, True], False, (34,56,78,89,34), {1,2,3,3,2,1}, {1:34, \"key2\": [55, 67, 78, 89], 4: (45,\n",
    "22, 61, 34)}, [56, 'data science'], 'Machine Learning']"
   ]
  },
  {
   "cell_type": "code",
   "execution_count": 55,
   "id": "554db1ce-d695-44d7-91b4-704330656e01",
   "metadata": {},
   "outputs": [
    {
     "data": {
      "text/plain": [
       "4134711838987085478833841242112000"
      ]
     },
     "execution_count": 55,
     "metadata": {},
     "output_type": "execute_result"
    }
   ],
   "source": [
    "def extractNumericVal(lst):\n",
    "    num_list = [] # This list will store all number elements\n",
    "    for elm in lst:\n",
    "        if isinstance(elm, (list, tuple, set)):\n",
    "            num_list.extend(extractNumericVal(elm)) # Here we are calling \"extractNumericVal\" recursively.\n",
    "        elif isinstance(elm, (dict)):\n",
    "            num_list.extend(extractNumericVal(elm.values()))\n",
    "            num_list.extend(extractNumericVal(elm.keys()))\n",
    "        elif isinstance(elm, (int, float)):\n",
    "            if elm not in (True, False):\n",
    "                num_list.append(elm)\n",
    "    return num_list\n",
    "\n",
    "# Here we imported reduce library in order to use reduce function.\n",
    "\n",
    "from functools import reduce\n",
    "val = extractNumericVal(list1)\n",
    "reduce(lambda x,y : x*y, val)"
   ]
  },
  {
   "cell_type": "code",
   "execution_count": 57,
   "id": "49619fbe-de1c-4785-a459-988dab4aa31b",
   "metadata": {},
   "outputs": [],
   "source": [
    "sen = \"I want to become a Data Scientist.\""
   ]
  },
  {
   "cell_type": "code",
   "execution_count": 83,
   "id": "1714ea04-e3c2-45fb-98c9-ff9fcbe61592",
   "metadata": {},
   "outputs": [
    {
     "name": "stdout",
     "output_type": "stream",
     "text": [
      "r$dzmg$gl$yvxlnv$z$wzgz$hxrvmgrhg.\n"
     ]
    }
   ],
   "source": [
    "def encrypt_message(message):\n",
    "    message =message.lower()\n",
    "    encrypted_text = []\n",
    "    for char in message:\n",
    "        if char.isalpha(): # Here we are checking whether the char is alphabet or not?\n",
    "            encrypted_char = chr(219-ord(char)) # Here we are transforming the oppsoite word\n",
    "        elif char.isspace():\n",
    "            encrypted_char =\"$\"\n",
    "        else :\n",
    "            encrypted_char = char\n",
    "        encrypted_text.append(encrypted_char)\n",
    "            \n",
    "    return ''.join(encrypted_text)\n",
    "\n",
    "input_sentence = \"I want to become a Data Scientist.\"\n",
    "\n",
    "encrypted_sentence = encrypt_message(input_sentence)\n",
    "\n",
    "print(encrypted_sentence)\n"
   ]
  }
 ],
 "metadata": {
  "kernelspec": {
   "display_name": "Python 3 (ipykernel)",
   "language": "python",
   "name": "python3"
  },
  "language_info": {
   "codemirror_mode": {
    "name": "ipython",
    "version": 3
   },
   "file_extension": ".py",
   "mimetype": "text/x-python",
   "name": "python",
   "nbconvert_exporter": "python",
   "pygments_lexer": "ipython3",
   "version": "3.10.8"
  }
 },
 "nbformat": 4,
 "nbformat_minor": 5
}
