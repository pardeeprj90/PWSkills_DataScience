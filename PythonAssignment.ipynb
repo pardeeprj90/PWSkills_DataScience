{
 "cells": [
  {
   "cell_type": "markdown",
   "id": "acb13b2b-aff2-4428-92fd-2d27f5a95600",
   "metadata": {},
   "source": [
    "## Q1.:- Explain with an example each when to use a for loop and a while loop."
   ]
  },
  {
   "cell_type": "markdown",
   "id": "1f288714-0adb-4e2d-b99b-a128840b20be",
   "metadata": {},
   "source": [
    "###### A for loop is useful when you know exactly how many times you want to execute a block of code. It is typically used for iterating over collections of data, such as arrays or lists, and performing a specific operation on each element. Here is an example of a for loop that prints out the numbers from 1 to 5:"
   ]
  },
  {
   "cell_type": "code",
   "execution_count": 4,
   "id": "4c78a382-376d-4f16-ab9c-021967d73433",
   "metadata": {},
   "outputs": [
    {
     "name": "stdout",
     "output_type": "stream",
     "text": [
      "1\n",
      "2\n",
      "3\n",
      "4\n",
      "5\n"
     ]
    }
   ],
   "source": [
    "for i in range(1, 6):\n",
    "    print(i)"
   ]
  },
  {
   "cell_type": "markdown",
   "id": "98e2747e-4614-47df-a56b-0ecf7099e674",
   "metadata": {},
   "source": [
    "###### A while loop, on the other hand, is useful when you want to repeat a block of code until a certain condition is met. It is typically used when the number of iterations is not known in advance, or when the loop needs to be terminated based on some condition."
   ]
  },
  {
   "cell_type": "code",
   "execution_count": 6,
   "id": "772b5911-1f19-470c-847b-35c44ea423a2",
   "metadata": {},
   "outputs": [
    {
     "name": "stdin",
     "output_type": "stream",
     "text": [
      "Enter the number 4\n"
     ]
    },
    {
     "name": "stdout",
     "output_type": "stream",
     "text": [
      "0\n",
      "1\n",
      "1\n",
      "2\n"
     ]
    }
   ],
   "source": [
    "# Print fibonacci series --0,1,1,2,3,4,5\n",
    "num = int(input(\"Enter the number\"))\n",
    "a,b = 0,1\n",
    "counter = 0\n",
    "while counter < num:\n",
    "    print(a)\n",
    "    c=a+b\n",
    "    a=b\n",
    "    b=c\n",
    "    counter=counter+1"
   ]
  },
  {
   "cell_type": "markdown",
   "id": "7b318847-d36b-4577-b6d8-59df2b724423",
   "metadata": {},
   "source": [
    "## Q2:- Write a python program to print the sum and product of the first 10 natural numbers using for and while loop."
   ]
  },
  {
   "cell_type": "code",
   "execution_count": 33,
   "id": "e2c0c8eb-b2cb-4f65-8c72-654559cc00cd",
   "metadata": {},
   "outputs": [
    {
     "name": "stdin",
     "output_type": "stream",
     "text": [
      "Please enter 1st Natural Number 1\n",
      "Please enter Last Natural Number 10\n"
     ]
    },
    {
     "name": "stdout",
     "output_type": "stream",
     "text": [
      "Here is the product of 1st 10 Natural numbers:- 3628800\n"
     ]
    }
   ],
   "source": [
    "# Product of 1st 10 Natural Number using for loop\n",
    "lowerNaturalNumrange = int(input(\"Please enter 1st Natural Number\"))\n",
    "upperNaturalNumrange = int(input(\"Please enter Last Natural Number\"))\n",
    "\n",
    "if lowerNaturalNumrange<=0 or upperNaturalNumrange<=0:\n",
    "    print(\"Entered numbers are not natural Number, please re enter the Natural Numbers\")\n",
    "else:\n",
    "    productOfNaturalNumber = 1\n",
    "    for i in range(lowerNaturalNumrange,upperNaturalNumrange+1):\n",
    "        productOfNaturalNumber=productOfNaturalNumber*i\n",
    "    print (f'Here is the product of 1st {upperNaturalNumrange} Natural numbers:- {productOfNaturalNumber}')"
   ]
  },
  {
   "cell_type": "code",
   "execution_count": 36,
   "id": "d099410a-984a-4b03-9034-f2055146a16d",
   "metadata": {},
   "outputs": [
    {
     "name": "stdin",
     "output_type": "stream",
     "text": [
      "Please enter 1st Natural Number 1\n",
      "Please enter Last Natural Number 10\n"
     ]
    },
    {
     "name": "stdout",
     "output_type": "stream",
     "text": [
      "Here is the product of 1st 10 Natural numbers:- 3628800\n"
     ]
    }
   ],
   "source": [
    "# Product of 1st 10 Natural Number using While loop\n",
    "lowerNaturalNumrange = int(input(\"Please enter 1st Natural Number\"))\n",
    "upperNaturalNumrange = int(input(\"Please enter Last Natural Number\"))\n",
    "if lowerNaturalNumrange<=0 or upperNaturalNumrange<=0:\n",
    "    print(\"Entered numbers are not natural Number, please re enter the Natural Numbers\")\n",
    "else:\n",
    "    productOfNaturalNumber = 1\n",
    "    while lowerNaturalNumrange <= upperNaturalNumrange:\n",
    "        productOfNaturalNumber = productOfNaturalNumber * lowerNaturalNumrange\n",
    "        lowerNaturalNumrange+=1\n",
    "    print (f'Here is the product of 1st {upperNaturalNumrange} Natural numbers:- {productOfNaturalNumber}')"
   ]
  },
  {
   "cell_type": "code",
   "execution_count": 39,
   "id": "d0b40480-4a53-4302-a1e4-07a74e52decd",
   "metadata": {},
   "outputs": [
    {
     "name": "stdin",
     "output_type": "stream",
     "text": [
      "Please enter 1st Natural Number 1\n",
      "Please enter Last Natural Number 10\n"
     ]
    },
    {
     "name": "stdout",
     "output_type": "stream",
     "text": [
      "Here is the sum of 1st 10 Natural numbers:- 55\n"
     ]
    }
   ],
   "source": [
    "# Sum of first 10 Natural Number using For Loop\n",
    "lowerNaturalNumrange = int(input(\"Please enter 1st Natural Number\"))\n",
    "upperNaturalNumrange = int(input(\"Please enter Last Natural Number\"))\n",
    "if lowerNaturalNumrange<=0 or upperNaturalNumrange<=0:\n",
    "    print(\"Entered numbers are not natural Number, please re enter the Natural Numbers\")\n",
    "else:\n",
    "    sum = 0\n",
    "    for i in range(lowerNaturalNumrange,upperNaturalNumrange+1):\n",
    "        sum = sum+ i\n",
    "    print (f'Here is the sum of 1st {upperNaturalNumrange} Natural numbers:- {sum}')"
   ]
  },
  {
   "cell_type": "code",
   "execution_count": 40,
   "id": "6ba3976b-a40e-43cf-b5f3-d7de85a16b5a",
   "metadata": {},
   "outputs": [
    {
     "name": "stdin",
     "output_type": "stream",
     "text": [
      "Please enter 1st Natural Number 1\n",
      "Please enter Last Natural Number 10\n"
     ]
    },
    {
     "name": "stdout",
     "output_type": "stream",
     "text": [
      "Here is the Sum of 1st 10 Natural numbers:- 55\n"
     ]
    }
   ],
   "source": [
    "# Sum of 1st 10 Natural Number using While loop\n",
    "lowerNaturalNumrange = int(input(\"Please enter 1st Natural Number\"))\n",
    "upperNaturalNumrange = int(input(\"Please enter Last Natural Number\"))\n",
    "if lowerNaturalNumrange<=0 or upperNaturalNumrange<=0:\n",
    "    print(\"Entered numbers are not natural Number, please re enter the Natural Numbers\")\n",
    "else:\n",
    "    sum = 0\n",
    "    while lowerNaturalNumrange <= upperNaturalNumrange:\n",
    "        sum = sum + lowerNaturalNumrange\n",
    "        lowerNaturalNumrange+=1\n",
    "    print (f'Here is the Sum of 1st {upperNaturalNumrange} Natural numbers:- {sum}')"
   ]
  },
  {
   "cell_type": "markdown",
   "id": "888e41a8-de61-4ed4-bec4-0bafe0568991",
   "metadata": {},
   "source": [
    "## Q3:- Create a python program to compute the electricity bill for a household.The per-unit charges in rupees are as follows: For the first 100 units, the user will be charged Rs. 4.5 per unit, for the next 100 units, the user will be charged Rs. 6 per unit, and for the next 100 units, the user will be charged Rs. 10 per unit, After 300 units and above the user will be charged Rs. 20 per unit.You are required to take the units of electricity consumed in a month from the user as input.Your program must pass this test case: when the unit of electricity consumed by the user in a month is 310, the total electricity bill should be 2250."
   ]
  },
  {
   "cell_type": "code",
   "execution_count": 97,
   "id": "f0391f72-0ae0-4abb-af86-52d12e034518",
   "metadata": {},
   "outputs": [
    {
     "name": "stdin",
     "output_type": "stream",
     "text": [
      "Enter the Billed units:-  310\n"
     ]
    },
    {
     "name": "stdout",
     "output_type": "stream",
     "text": [
      "2250.0\n"
     ]
    }
   ],
   "source": [
    "unit_consumption = int(input(\"Enter the Billed units:- \"))\n",
    "bill_amount = 0\n",
    "units_for_last_slab = 0\n",
    "\n",
    "# Electricity Slab rates\n",
    "unit_rate_slab = {\n",
    "    '1stSlabRate': 4.5, \n",
    "    '2ndSlabRate': 6, \n",
    "    '3rdSlabRate': 10, \n",
    "    '4thSlabRate': 20\n",
    "}\n",
    "# Electricity Consumption Slab units\n",
    "consumption_slab = {\n",
    "    '1stSlabUnits':100,\n",
    "    '2ndSlabUnits':100, \n",
    "    '3rdSlabUnits':100, \n",
    "    'lastSlabUnits':units_for_last_slab}\n",
    "\n",
    "# Calculate bill amount when units are >300\n",
    "if unit_consumption > (consumption_slab['1stSlabUnits'] + consumption_slab['2ndSlabUnits'] + consumption_slab['3rdSlabUnits']):\n",
    "    consumption_slab['lastSlabUnits'] = unit_consumption - (consumption_slab['1stSlabUnits'] + consumption_slab['2ndSlabUnits'] + consumption_slab['3rdSlabUnits'])\n",
    "    bill_amount = consumption_slab['1stSlabUnits'] * unit_rate_slab['1stSlabRate'] + consumption_slab['2ndSlabUnits'] * unit_rate_slab['2ndSlabRate'] + consumption_slab['3rdSlabUnits'] * unit_rate_slab['3rdSlabRate'] + consumption_slab['lastSlabUnits'] * unit_rate_slab['4thSlabRate']\n",
    "    \n",
    "# Calculate bill amount when units are <=300 and > 200\n",
    "elif unit_consumption <= (consumption_slab['1stSlabUnits'] + consumption_slab['2ndSlabUnits'] + consumption_slab['3rdSlabUnits']) and unit_consumption > (consumption_slab['1stSlabUnits'] + consumption_slab['2ndSlabUnits']):\n",
    "    consumption_slab['3rdSlabUnits'] = unit_consumption - (consumption_slab['1stSlabUnits'] + consumption_slab['2ndSlabUnits'])\n",
    "    bill_amount = consumption_slab['1stSlabUnits'] * unit_rate_slab['1stSlabRate'] + consumption_slab['2ndSlabUnits'] * unit_rate_slab['2ndSlabRate'] + consumption_slab['3rdSlabUnits'] * unit_rate_slab['3rdSlabRate']\n",
    "\n",
    "# Calculate bill amount when units are <200 and > 100\n",
    "elif unit_consumption <= (consumption_slab['1stSlabUnits'] + consumption_slab['2ndSlabUnits']) and unit_consumption > (consumption_slab['1stSlabUnits']):\n",
    "    consumption_slab['2ndSlabUnits'] = unit_consumption - (consumption_slab['1stSlabUnits'])\n",
    "    bill_amount = consumption_slab['1stSlabUnits'] * unit_rate_slab['1stSlabRate'] + consumption_slab['2ndSlabUnits'] * unit_rate_slab['2ndSlabRate']\n",
    "        \n",
    "# Calculate bill amount when units are <100\n",
    "else:\n",
    "    bill_amount = unit_consumption * unit_rate_slab['1stSlabRate']\n",
    "    \n",
    "print(bill_amount)"
   ]
  },
  {
   "cell_type": "markdown",
   "id": "a149b2a9-cab4-4d7d-96d2-7dc511893f2a",
   "metadata": {},
   "source": [
    "## Q4. Create a list of numbers from 1 to 100. Use for loop and while loop to calculate the cube of each number and if the cube of that number is divisible by 4 or 5 then append that number in a list and print that list."
   ]
  },
  {
   "cell_type": "code",
   "execution_count": 137,
   "id": "4b12c1f0-2417-4c03-bf65-3a4ae7eee9ed",
   "metadata": {},
   "outputs": [
    {
     "name": "stdout",
     "output_type": "stream",
     "text": [
      "[2, 4, 5, 6, 8, 10, 12, 14, 15, 16, 18, 20, 22, 24, 25, 26, 28, 30, 32, 34, 35, 36, 38, 40, 42, 44, 45, 46, 48, 50, 52, 54, 55, 56, 58, 60, 62, 64, 65, 66, 68, 70, 72, 74, 75, 76, 78, 80, 82, 84, 85, 86, 88, 90, 92, 94, 95, 96, 98, 100]\n"
     ]
    }
   ],
   "source": [
    "# With For Loop\n",
    "list_of_numbers = list(range(1, 101))\n",
    "final_req_list = []\n",
    "\n",
    "for num in list_of_numbers:\n",
    "    cube = num ** 3\n",
    "    if (cube % 4 == 0 or cube % 5 == 0):\n",
    "        final_req_list.append(num)\n",
    "print (final_req_list)"
   ]
  },
  {
   "cell_type": "code",
   "execution_count": 7,
   "id": "30080f18-bd52-45e6-91be-8551f431c8a2",
   "metadata": {},
   "outputs": [
    {
     "name": "stdout",
     "output_type": "stream",
     "text": [
      "[2, 4, 5, 6, 8, 10, 12, 14, 15, 16, 18, 20, 22, 24, 25, 26, 28, 30, 32, 34, 35, 36, 38, 40, 42, 44, 45, 46, 48, 50, 52, 54, 55, 56, 58, 60, 62, 64, 65, 66, 68, 70, 72, 74, 75, 76, 78, 80, 82, 84, 85, 86, 88, 90, 92, 94, 95, 96, 98, 100]\n"
     ]
    }
   ],
   "source": [
    "# With While Loop\n",
    "list_of_numbers = list(range(1, 101))\n",
    "final_req_list = []\n",
    "counter=0\n",
    "\n",
    "while counter < len(list_of_numbers):\n",
    "    cube = list_of_numbers[counter] ** 3\n",
    "    if (cube % 4 == 0 or cube % 5 == 0):\n",
    "        final_req_list.append(list_of_numbers[counter])\n",
    "    counter+=1\n",
    "print (final_req_list)"
   ]
  },
  {
   "cell_type": "markdown",
   "id": "ab00b8c6-560c-4901-8f2a-b1b40aeeb5cc",
   "metadata": {},
   "source": [
    "## Q5. Write a program to filter count vowels in the below-given string. string = \"I want to become a data scientist\""
   ]
  },
  {
   "cell_type": "code",
   "execution_count": 10,
   "id": "1e808f93-1d63-471b-a6da-f7a2daa4fbd8",
   "metadata": {},
   "outputs": [
    {
     "name": "stdout",
     "output_type": "stream",
     "text": [
      "12\n"
     ]
    }
   ],
   "source": [
    "string = \"I want to become a data scientist\"\n",
    "vovelCount=0\n",
    "for char in string:\n",
    "    if char in ('a','e','i','o','u','A','E','I','O','U'):\n",
    "        vovelCount+=1\n",
    "print(vovelCount)"
   ]
  }
 ],
 "metadata": {
  "kernelspec": {
   "display_name": "Python 3 (ipykernel)",
   "language": "python",
   "name": "python3"
  },
  "language_info": {
   "codemirror_mode": {
    "name": "ipython",
    "version": 3
   },
   "file_extension": ".py",
   "mimetype": "text/x-python",
   "name": "python",
   "nbconvert_exporter": "python",
   "pygments_lexer": "ipython3",
   "version": "3.10.8"
  }
 },
 "nbformat": 4,
 "nbformat_minor": 5
}
