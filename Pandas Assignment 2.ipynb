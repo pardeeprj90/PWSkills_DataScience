{
 "cells": [
  {
   "cell_type": "markdown",
   "id": "06541cfc-6c33-4d9d-8bd0-d64e51acef90",
   "metadata": {},
   "source": [
    "'''Q1. List any five functions of the pandas library with execution.'''\n",
    "Sure, here are five functions of the pandas library along with their execution:\n",
    "\n",
    "1. **`read_csv()`**: This function is used to read data from a CSV file into a DataFrame.\n",
    "   \n",
    "   \n",
    "   import pandas as pd\n",
    "\n",
    "   #### Read data from a CSV file into a DataFrame\n",
    "   df = pd.read_csv('data.csv')\n",
    "   ```\n",
    "\n",
    "2. **`head()`**: This function is used to display the first few rows of a DataFrame.\n",
    "\n",
    "   ```python\n",
    "   # Display the first 5 rows of the DataFrame\n",
    "   print(df.head())\n",
    "   ```\n",
    "\n",
    "3. **`info()`**: This function is used to print a concise summary of a DataFrame including the data types of each column and the number of non-null values.\n",
    "\n",
    "   ```python\n",
    "   # Print a concise summary of the DataFrame\n",
    "   print(df.info())\n",
    "   ```\n",
    "\n",
    "4. **`describe()`**: This function generates descriptive statistics for numerical columns in the DataFrame, such as count, mean, standard deviation, minimum, maximum, and quartile values.\n",
    "\n",
    "   ```python\n",
    "   # Generate descriptive statistics for numerical columns\n",
    "   print(df.describe())\n",
    "   ```\n",
    "\n",
    "5. **`groupby()`**: This function is used to group data in the DataFrame based on one or more columns, and perform operations (e.g., aggregation, transformation) on the grouped data.\n",
    "\n",
    "   ```python\n",
    "   # Group data by 'Category' column and calculate the mean of 'Value' column within each group\n",
    "   grouped_data = df.groupby('Category')['Value'].mean()\n",
    "   print(grouped_data)\n",
    "   ```\n",
    "\n",
    "These functions are commonly used in data analysis tasks with pandas to perform various operations such as data loading, data exploration, and data manipulation."
   ]
  },
  {
   "cell_type": "code",
   "execution_count": 18,
   "id": "7122e179-8a5d-4353-bf46-bc76ffc4a62e",
   "metadata": {},
   "outputs": [
    {
     "name": "stdout",
     "output_type": "stream",
     "text": [
      "   0\n",
      "0  A\n",
      "1  C\n",
      "2  B\n"
     ]
    },
    {
     "data": {
      "text/html": [
       "<div>\n",
       "<style scoped>\n",
       "    .dataframe tbody tr th:only-of-type {\n",
       "        vertical-align: middle;\n",
       "    }\n",
       "\n",
       "    .dataframe tbody tr th {\n",
       "        vertical-align: top;\n",
       "    }\n",
       "\n",
       "    .dataframe thead th {\n",
       "        text-align: right;\n",
       "    }\n",
       "</style>\n",
       "<table border=\"1\" class=\"dataframe\">\n",
       "  <thead>\n",
       "    <tr style=\"text-align: right;\">\n",
       "      <th></th>\n",
       "      <th>0</th>\n",
       "    </tr>\n",
       "  </thead>\n",
       "  <tbody>\n",
       "    <tr>\n",
       "      <th>1</th>\n",
       "      <td>A</td>\n",
       "    </tr>\n",
       "    <tr>\n",
       "      <th>3</th>\n",
       "      <td>C</td>\n",
       "    </tr>\n",
       "    <tr>\n",
       "      <th>5</th>\n",
       "      <td>B</td>\n",
       "    </tr>\n",
       "  </tbody>\n",
       "</table>\n",
       "</div>"
      ],
      "text/plain": [
       "   0\n",
       "1  A\n",
       "3  C\n",
       "5  B"
      ]
     },
     "execution_count": 18,
     "metadata": {},
     "output_type": "execute_result"
    }
   ],
   "source": [
    "'''Q2. Given a Pandas DataFrame df with columns 'A', 'B', and 'C', write a Python function to re-index the\n",
    "DataFrame with a new index that starts from 1 and increments by 2 for each row.'''\n",
    "import pandas as pd\n",
    "\n",
    "data = {'A','B','C'}\n",
    "df = pd.DataFrame(data)\n",
    "print(df)\n",
    "\n",
    "def reindex_dataframe(df):\n",
    "    new_index = [i*2+1 for i in range(len(df))]\n",
    "    df_reindexed = df.set_index(pd.Index(new_index))\n",
    "    return df_reindexed\n",
    "\n",
    "reindex_dataframe(df)"
   ]
  },
  {
   "cell_type": "code",
   "execution_count": 19,
   "id": "2d56304b-b325-4d33-a507-c1d02033ae80",
   "metadata": {},
   "outputs": [
    {
     "data": {
      "text/plain": [
       "60"
      ]
     },
     "execution_count": 19,
     "metadata": {},
     "output_type": "execute_result"
    }
   ],
   "source": [
    "'''Q3. You have a Pandas DataFrame df with a column named 'Values'. Write a Python function that\n",
    "iterates over the DataFrame and calculates the sum of the first three values in the 'Values' column. The\n",
    "function should print the sum to the console.'''\n",
    "\n",
    "import pandas as pd\n",
    "\n",
    "data = {'Values':[10, 20, 30, 40, 50]}\n",
    "df = pd.DataFrame(data)\n",
    "df\n",
    "\n",
    "def calcSum(df):\n",
    "    sum_of_three_nums = sum(df['Values'].iloc[0:3])\n",
    "    return sum_of_three_nums\n",
    "\n",
    "calcSum(df)"
   ]
  },
  {
   "cell_type": "code",
   "execution_count": 42,
   "id": "e209c168-5ff8-45f7-81fb-d6c9214e33fd",
   "metadata": {},
   "outputs": [
    {
     "data": {
      "text/html": [
       "<div>\n",
       "<style scoped>\n",
       "    .dataframe tbody tr th:only-of-type {\n",
       "        vertical-align: middle;\n",
       "    }\n",
       "\n",
       "    .dataframe tbody tr th {\n",
       "        vertical-align: top;\n",
       "    }\n",
       "\n",
       "    .dataframe thead th {\n",
       "        text-align: right;\n",
       "    }\n",
       "</style>\n",
       "<table border=\"1\" class=\"dataframe\">\n",
       "  <thead>\n",
       "    <tr style=\"text-align: right;\">\n",
       "      <th></th>\n",
       "      <th>Text</th>\n",
       "      <th>Word_Count</th>\n",
       "    </tr>\n",
       "  </thead>\n",
       "  <tbody>\n",
       "    <tr>\n",
       "      <th>0</th>\n",
       "      <td>text</td>\n",
       "      <td>4</td>\n",
       "    </tr>\n",
       "  </tbody>\n",
       "</table>\n",
       "</div>"
      ],
      "text/plain": [
       "   Text  Word_Count\n",
       "0  text           4"
      ]
     },
     "execution_count": 42,
     "metadata": {},
     "output_type": "execute_result"
    }
   ],
   "source": [
    "'''Q4. Given a Pandas DataFrame df with a column 'Text', write a Python function to create a new column\n",
    "'Word_Count' that contains the number of words in each row of the 'Text' column.'''\n",
    "\n",
    "import pandas as pd\n",
    "\n",
    "data = {'Text':['text']}\n",
    "df = pd.DataFrame(data)\n",
    "df\n",
    "\n",
    "def createColumn(df, columnName):\n",
    "    word_count = len(df['Text'].iloc[0])\n",
    "    \n",
    "    df[columnName] = word_count\n",
    "    return df\n",
    "\n",
    "createColumn(df,'Word_Count')   "
   ]
  },
  {
   "cell_type": "markdown",
   "id": "73a733b1-0f79-4b6f-96f2-3c24da536055",
   "metadata": {},
   "source": [
    "### Q5. How are DataFrame.size() and DataFrame.shape() different?\n",
    "\n",
    "`DataFrame.size` and `DataFrame.shape` are both attributes of a pandas DataFrame, but they serve different purposes:\n",
    "\n",
    "1. **DataFrame.size**: This attribute returns the total number of elements in the DataFrame, which is calculated by multiplying the number of rows by the number of columns. It returns an integer representing the total size of the DataFrame.\n",
    "\n",
    "   ```python\n",
    "   import pandas as pd\n",
    "\n",
    "   # Create a DataFrame\n",
    "   df = pd.DataFrame({'A': [1, 2, 3], 'B': [4, 5, 6]})\n",
    "\n",
    "   # Get the total number of elements in the DataFrame\n",
    "   total_elements = df.size\n",
    "   print(\"Total elements in DataFrame:\", total_elements)\n",
    "   ```\n",
    "\n",
    "   Output:\n",
    "   ```\n",
    "   Total elements in DataFrame: 6\n",
    "   ```\n",
    "\n",
    "2. **DataFrame.shape**: This attribute returns a tuple representing the dimensions of the DataFrame, where the first element of the tuple is the number of rows and the second element is the number of columns. It provides a convenient way to get the number of rows and columns of the DataFrame.\n",
    "\n",
    "   ```python\n",
    "   import pandas as pd\n",
    "\n",
    "   # Create a DataFrame\n",
    "   df = pd.DataFrame({'A': [1, 2, 3], 'B': [4, 5, 6]})\n",
    "\n",
    "   # Get the dimensions of the DataFrame\n",
    "   dimensions = df.shape\n",
    "   print(\"Dimensions of DataFrame (rows, columns):\", dimensions)\n",
    "   ```\n",
    "\n",
    "   Output:\n",
    "   ```\n",
    "   Dimensions of DataFrame (rows, columns): (3, 2)\n",
    "   ```\n",
    "\n",
    "In summary, `DataFrame.size` returns the total number of elements (rows * columns) in the DataFrame, while `DataFrame.shape` returns a tuple containing the number of rows and columns in the DataFrame."
   ]
  },
  {
   "cell_type": "markdown",
   "id": "5cbb6fed-5fff-431b-9c0e-0eccb2f5e2b7",
   "metadata": {},
   "source": [
    "### Q6. Which function of pandas do we use to read an excel file?\n",
    "1. **`read_csv()`**: This function is used to read data from a CSV file into a DataFrame.\n"
   ]
  },
  {
   "cell_type": "code",
   "execution_count": 65,
   "id": "dec37741-dc1e-4064-99b3-d982ec4c0a0f",
   "metadata": {},
   "outputs": [
    {
     "data": {
      "text/html": [
       "<div>\n",
       "<style scoped>\n",
       "    .dataframe tbody tr th:only-of-type {\n",
       "        vertical-align: middle;\n",
       "    }\n",
       "\n",
       "    .dataframe tbody tr th {\n",
       "        vertical-align: top;\n",
       "    }\n",
       "\n",
       "    .dataframe thead th {\n",
       "        text-align: right;\n",
       "    }\n",
       "</style>\n",
       "<table border=\"1\" class=\"dataframe\">\n",
       "  <thead>\n",
       "    <tr style=\"text-align: right;\">\n",
       "      <th></th>\n",
       "      <th>Email</th>\n",
       "      <th>userName</th>\n",
       "    </tr>\n",
       "  </thead>\n",
       "  <tbody>\n",
       "    <tr>\n",
       "      <th>0</th>\n",
       "      <td>pardeep.rj90@gmail.com</td>\n",
       "      <td>pardeep.rj90</td>\n",
       "    </tr>\n",
       "    <tr>\n",
       "      <th>1</th>\n",
       "      <td>test@test.com</td>\n",
       "      <td>test</td>\n",
       "    </tr>\n",
       "  </tbody>\n",
       "</table>\n",
       "</div>"
      ],
      "text/plain": [
       "                    Email      userName\n",
       "0  pardeep.rj90@gmail.com  pardeep.rj90\n",
       "1           test@test.com          test"
      ]
     },
     "execution_count": 65,
     "metadata": {},
     "output_type": "execute_result"
    }
   ],
   "source": [
    "'''Q7. You have a Pandas DataFrame df that contains a column named 'Email' that contains email\n",
    "addresses in the format 'username@domain.com'. Write a Python function that creates a new column\n",
    "'Username' in df that contains only the username part of each email address.\n",
    "\n",
    "The username is the part of the email address that appears before the '@' symbol. For example, if the\n",
    "email address is 'john.doe@example.com', the 'Username' column should contain 'john.doe'. Your\n",
    "function should extract the username from each email address and store it in the new 'Username'\n",
    "column.'''\n",
    "\n",
    "import pandas as pd\n",
    "\n",
    "data = {'Email':['pardeep.rj90@gmail.com','test@test.com']}\n",
    "\n",
    "df = pd.DataFrame(data)\n",
    "\n",
    "def userName(df,columnName,textSeperator):\n",
    "    usernames = df['Email'].str.split(textSeperator).str[0]\n",
    "    # print(usernames)\n",
    "    df[columnName] = usernames\n",
    "    return df\n",
    "\n",
    "userName(df,'userName','@') "
   ]
  },
  {
   "cell_type": "code",
   "execution_count": 43,
   "id": "b7d2b9f6-82de-46e0-b87f-1d872bc570a2",
   "metadata": {},
   "outputs": [
    {
     "name": "stdout",
     "output_type": "stream",
     "text": [
      "   A  B  C\n",
      "1  8  2  7\n",
      "2  6  9  4\n",
      "4  9  1  2\n"
     ]
    }
   ],
   "source": [
    "'''Q8. You have a Pandas DataFrame df with columns 'A', 'B', and 'C'. Write a Python function that selects\n",
    "all rows where the value in column 'A' is greater than 5 and the value in column 'B' is less than 10. The\n",
    "function should return a new DataFrame that contains only the selected rows.'''\n",
    "\n",
    "import pandas as pd\n",
    "\n",
    "data = {'A': [3, 8, 6, 2, 9], 'B': [5, 2, 9, 3, 1], 'C': [1, 7, 4, 5, 2]}\n",
    "df = pd.DataFrame(data)\n",
    "# print(df)\n",
    "\n",
    "def select_rows(df):\n",
    "    # Apply the conditions to filter the DataFrame\n",
    "    selected_rows = df[(df['A'] > 5) & (df['B'] < 10)]\n",
    "    return selected_rows\n",
    "\n",
    "# Example usage\n",
    "result = select_rows(df)\n",
    "print(result)\n",
    "\n"
   ]
  },
  {
   "cell_type": "code",
   "execution_count": 48,
   "id": "8710cfd8-005d-499c-aa65-9048712092ee",
   "metadata": {},
   "outputs": [
    {
     "data": {
      "text/plain": [
       "(1980094.6, 154.0, 4427361.154467163)"
      ]
     },
     "execution_count": 48,
     "metadata": {},
     "output_type": "execute_result"
    }
   ],
   "source": [
    "'''Q9. Given a Pandas DataFrame df with a column 'Values', write a Python function to calculate the mean,\n",
    "median, and standard deviation of the values in the 'Values' column.'''\n",
    "\n",
    "import pandas as pd\n",
    "data = {'Values':[10,154,258,9899999,52]}\n",
    "df = pd.DataFrame(data)\n",
    "\n",
    "def calcMeanMedianDeviation(df):\n",
    "    mean_value = df['Values'].mean()\n",
    "    median_value = df['Values'].median()\n",
    "    std_deviation = df['Values'].std()\n",
    "    return mean_value, median_value, std_deviation\n",
    "\n",
    "mean, median ,std_deviation = calcMeanMedianDeviation(df)\n",
    "mean, median ,std_deviation"
   ]
  },
  {
   "cell_type": "code",
   "execution_count": 50,
   "id": "2d465b32-9df8-466c-82b5-cdeac51cd0c1",
   "metadata": {},
   "outputs": [
    {
     "name": "stdout",
     "output_type": "stream",
     "text": [
      "        Date  Sales  MovingAverage\n",
      "0 2024-01-01     10           10.0\n",
      "1 2024-01-02     20           15.0\n",
      "2 2024-01-03     30           20.0\n",
      "3 2024-01-04     40           25.0\n",
      "4 2024-01-05     50           30.0\n",
      "5 2024-01-06     60           35.0\n",
      "6 2024-01-07     70           40.0\n",
      "7 2024-01-08     80           50.0\n",
      "8 2024-01-09     90           60.0\n",
      "9 2024-01-10    100           70.0\n"
     ]
    }
   ],
   "source": [
    "'''Q10. Given a Pandas DataFrame df with a column 'Sales' and a column 'Date', write a Python function to\n",
    "create a new column 'MovingAverage' that contains the moving average of the sales for the past 7 days\n",
    "for each row in the DataFrame. The moving average should be calculated using a window of size 7 and\n",
    "should include the current day.'''\n",
    "\n",
    "import pandas as pd\n",
    "\n",
    "def calculate_moving_average(df):\n",
    "    # Ensure the Date column is in datetime format\n",
    "    df['Date'] = pd.to_datetime(df['Date'])\n",
    "    \n",
    "    # Sort the DataFrame by Date in case it's not sorted\n",
    "    df = df.sort_values(by='Date')\n",
    "    \n",
    "    # Calculate the moving average with a window size of 7, including the current day\n",
    "    df['MovingAverage'] = df['Sales'].rolling(window=7, min_periods=1).mean()\n",
    "    \n",
    "    return df\n",
    "\n",
    "# Example usage:\n",
    "data = {\n",
    "    'Date': [\n",
    "        '2024-01-01', '2024-01-02', '2024-01-03', '2024-01-04', '2024-01-05', \n",
    "        '2024-01-06', '2024-01-07', '2024-01-08', '2024-01-09', '2024-01-10'\n",
    "    ],\n",
    "    'Sales': [10, 20, 30, 40, 50, 60, 70, 80, 90, 100]\n",
    "}\n",
    "df = pd.DataFrame(data)\n",
    "\n",
    "result = calculate_moving_average(df)\n",
    "print(result)\n"
   ]
  },
  {
   "cell_type": "code",
   "execution_count": 59,
   "id": "c25985f6-50cd-469b-a7a0-ed9bc8a2d625",
   "metadata": {},
   "outputs": [
    {
     "name": "stdout",
     "output_type": "stream",
     "text": [
      "        Date    Weekday\n",
      "0 2023-01-01     Sunday\n",
      "1 2023-01-02     Monday\n",
      "2 2023-01-03    Tuesday\n",
      "3 2023-01-04  Wednesday\n",
      "4 2023-01-05   Thursday\n"
     ]
    }
   ],
   "source": [
    "'''Q11. You have a Pandas DataFrame df with a column 'Date'. Write a Python function that creates a new\n",
    "column 'Weekday' in the DataFrame. The 'Weekday' column should contain the weekday name (e.g.\n",
    "Monday, Tuesday) corresponding to each date in the 'Date' column.'''\n",
    "import pandas as pd\n",
    "\n",
    "def add_weekday_column(df):\n",
    "\n",
    "    df['Date'] = pd.to_datetime(df['Date'])\n",
    "    df['Weekday'] = df['Date'].dt.day_name()\n",
    "    \n",
    "    return df\n",
    "\n",
    "data = {'Date': ['2023-01-01', '2023-01-02', '2023-01-03', '2023-01-04', '2023-01-05']}\n",
    "df = pd.DataFrame(data)\n",
    "\n",
    "result = add_weekday_column(df)\n",
    "print(result)\n"
   ]
  },
  {
   "cell_type": "code",
   "execution_count": 61,
   "id": "4dc4c451-590c-4c58-9362-82a8dead0a91",
   "metadata": {},
   "outputs": [
    {
     "name": "stdout",
     "output_type": "stream",
     "text": [
      "        date  Value\n",
      "1 2023-01-01     20\n",
      "2 2023-01-15     30\n",
      "3 2023-01-31     40\n"
     ]
    }
   ],
   "source": [
    "'''Q12. Given a Pandas DataFrame df with a column 'Date' that contains timestamps, write a Python\n",
    "function to select all rows where the date is between '2023-01-01' and '2023-01-31'.'''\n",
    "\n",
    "import pandas as pd\n",
    "\n",
    "def select_date_range(df):\n",
    "    df['date']= pd.to_datetime(df['date'])\n",
    "    \n",
    "    start_date = '2023-01-01'\n",
    "    end_date = '2023-01-31'\n",
    "    \n",
    "    filtered_data = (df['date'] >= start_date) & (df['date'] <= end_date)\n",
    "    selected_rows = df[filtered_data]\n",
    "    \n",
    "    return selected_rows\n",
    "\n",
    "# Example usage:\n",
    "data = {\n",
    "    'date': [\n",
    "        '2022-12-31', '2023-01-01', '2023-01-15', '2023-01-31', '2023-02-01'\n",
    "    ],\n",
    "    'Value': [10, 20, 30, 40, 50]\n",
    "}\n",
    "df = pd.DataFrame(data)\n",
    "\n",
    "result = select_date_range(df)\n",
    "print(result)\n"
   ]
  },
  {
   "cell_type": "markdown",
   "id": "eea70cca-05da-48ef-a6a4-2b38cc779dcb",
   "metadata": {},
   "source": [
    "### Q13. To use the basic functions of pandas, what is the first and foremost necessary library that needs to be imported?\n",
    "\n",
    "To use the basic functions of pandas, the first and foremost necessary library that needs to be imported is pandas "
   ]
  }
 ],
 "metadata": {
  "kernelspec": {
   "display_name": "Python 3 (ipykernel)",
   "language": "python",
   "name": "python3"
  },
  "language_info": {
   "codemirror_mode": {
    "name": "ipython",
    "version": 3
   },
   "file_extension": ".py",
   "mimetype": "text/x-python",
   "name": "python",
   "nbconvert_exporter": "python",
   "pygments_lexer": "ipython3",
   "version": "3.10.8"
  }
 },
 "nbformat": 4,
 "nbformat_minor": 5
}
