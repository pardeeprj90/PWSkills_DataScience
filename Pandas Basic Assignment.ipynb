{
 "cells": [
  {
   "cell_type": "code",
   "execution_count": 3,
   "id": "5829f631-4982-491f-83c3-fd2f2176f508",
   "metadata": {},
   "outputs": [
    {
     "data": {
      "text/plain": [
       "0     4\n",
       "1     8\n",
       "2    15\n",
       "3    16\n",
       "4    23\n",
       "5    42\n",
       "dtype: int64"
      ]
     },
     "execution_count": 3,
     "metadata": {},
     "output_type": "execute_result"
    }
   ],
   "source": [
    "''' Q1. Create a Pandas Series that contains the following data: 4, 8, 15, 16, 23, and 42. Then, print the series.'''\n",
    "import pandas as pd\n",
    "data = [4, 8, 15, 16, 23, 42]\n",
    "series = pd.Series(data)\n",
    "series"
   ]
  },
  {
   "cell_type": "code",
   "execution_count": 4,
   "id": "6eb63d9a-599b-404b-a6d3-db0850e9c598",
   "metadata": {},
   "outputs": [
    {
     "data": {
      "text/plain": [
       "0     4\n",
       "1     8\n",
       "2    15\n",
       "3    16\n",
       "4    23\n",
       "5    42\n",
       "dtype: int64"
      ]
     },
     "execution_count": 4,
     "metadata": {},
     "output_type": "execute_result"
    }
   ],
   "source": [
    "'''Q2. Create a variable of list type containing 10 elements in it, and apply pandas.Series function on the\n",
    "variable print it.'''\n",
    "import pandas as pd\n",
    "data_list = [4, 8, 15, 16, 23, 42]\n",
    "series = pd.Series(data_list)\n",
    "series"
   ]
  },
  {
   "cell_type": "code",
   "execution_count": 1,
   "id": "b33b3eb7-9ab7-407d-bd4a-fae301b9291d",
   "metadata": {},
   "outputs": [
    {
     "data": {
      "text/html": [
       "<div>\n",
       "<style scoped>\n",
       "    .dataframe tbody tr th:only-of-type {\n",
       "        vertical-align: middle;\n",
       "    }\n",
       "\n",
       "    .dataframe tbody tr th {\n",
       "        vertical-align: top;\n",
       "    }\n",
       "\n",
       "    .dataframe thead th {\n",
       "        text-align: right;\n",
       "    }\n",
       "</style>\n",
       "<table border=\"1\" class=\"dataframe\">\n",
       "  <thead>\n",
       "    <tr style=\"text-align: right;\">\n",
       "      <th></th>\n",
       "      <th>Name</th>\n",
       "      <th>Age</th>\n",
       "      <th>Gender</th>\n",
       "    </tr>\n",
       "  </thead>\n",
       "  <tbody>\n",
       "    <tr>\n",
       "      <th>0</th>\n",
       "      <td>Alice</td>\n",
       "      <td>25</td>\n",
       "      <td>Female</td>\n",
       "    </tr>\n",
       "    <tr>\n",
       "      <th>1</th>\n",
       "      <td>Bob</td>\n",
       "      <td>30</td>\n",
       "      <td>Male</td>\n",
       "    </tr>\n",
       "    <tr>\n",
       "      <th>2</th>\n",
       "      <td>Claire</td>\n",
       "      <td>27</td>\n",
       "      <td>Female</td>\n",
       "    </tr>\n",
       "  </tbody>\n",
       "</table>\n",
       "</div>"
      ],
      "text/plain": [
       "     Name  Age  Gender\n",
       "0   Alice   25  Female\n",
       "1     Bob   30    Male\n",
       "2  Claire   27  Female"
      ]
     },
     "execution_count": 1,
     "metadata": {},
     "output_type": "execute_result"
    }
   ],
   "source": [
    "'''Q3. Create a Pandas DataFrame that contains the following data:'''\n",
    "import pandas as pd\n",
    "data = {'Name':['Alice','Bob','Claire'],'Age':[25,30,27],'Gender':['Female','Male','Female']}\n",
    "df = pd.DataFrame(data)\n",
    "df"
   ]
  },
  {
   "cell_type": "code",
   "execution_count": 7,
   "id": "472f7c76-57c3-4915-99d4-29bd4974a426",
   "metadata": {},
   "outputs": [
    {
     "name": "stdout",
     "output_type": "stream",
     "text": [
      "DataFrame:\n",
      "      Name  Age         City\n",
      "0    Alice   25     New York\n",
      "1      Bob   30  Los Angeles\n",
      "2  Charlie   35      Chicago\n",
      "\n",
      "Series:\n",
      "0    25\n",
      "1    30\n",
      "2    35\n",
      "Name: Age, dtype: int64\n"
     ]
    }
   ],
   "source": [
    "'''Q4. What is ‘DataFrame’ in pandas and how is it different from pandas.series? Explain with an example.'''\n",
    "\n",
    "\"\"\" In Pandas, a DataFrame is a 2-dimensional labeled data structure with columns of potentially different types. It is similar to a spreadsheet or SQL table, or a dictionary of Series objects. A DataFrame can be thought of as a container for Series objects where each column represents a different variable, and each row represents a different observation. On the other hand, a Series is a one-dimensional labeled array capable of holding \n",
    "any data type (e.g., integers, strings, floating-point numbers, Python objects, etc.). \n",
    "It is essentially a single column of data with an associated index.\"\"\"\n",
    "\n",
    "\n",
    "\"\"\"\n",
    "1. **Dimensionality**:\n",
    "   - DataFrame: 2-dimensional (rows and columns).\n",
    "   - Series: 1-dimensional (single column).\n",
    "\n",
    "2. **Data structure**:\n",
    "   - DataFrame: A container for multiple Series objects, where each Series represents a column.\n",
    "   - Series: A single column of data with an associated index.\n",
    "\n",
    "3. **Usage**:\n",
    "   - DataFrame: Typically used for storing and analyzing tabular data, where each column may represent a different feature or variable, and each row represents a different observation.\n",
    "   - Series: Useful for representing a single variable or feature with associated labels.\n",
    "\n",
    "Here's an example to illustrate the difference:\"\"\"\n",
    "\n",
    "import pandas as pd\n",
    "\n",
    "# Creating a DataFrame\n",
    "data = {'Name': ['Alice', 'Bob', 'Charlie'],\n",
    "        'Age': [25, 30, 35],\n",
    "        'City': ['New York', 'Los Angeles', 'Chicago']}\n",
    "df = pd.DataFrame(data)\n",
    "print(\"DataFrame:\")\n",
    "print(df)\n",
    "print()\n",
    "\n",
    "# Creating a Series\n",
    "ages = pd.Series([25, 30, 35], name='Age')\n",
    "print(\"Series:\")\n",
    "print(ages)\n"
   ]
  },
  {
   "cell_type": "code",
   "execution_count": 12,
   "id": "a21e3480-97d1-4bd3-8969-fb59a993be7a",
   "metadata": {},
   "outputs": [
    {
     "name": "stdout",
     "output_type": "stream",
     "text": [
      "Total revenue by category:\n",
      "Category\n",
      "X    430\n",
      "Y    450\n",
      "Name: Revenue, dtype: int64\n"
     ]
    }
   ],
   "source": [
    "\"\"\"Q5. What are some common functions you can use to manipulate data in a Pandas DataFrame? Can\n",
    "you give an example of when you might use one of these functions?\"\"\"\n",
    "\n",
    "\"\"\"\n",
    "Pandas provides a wide range of functions for manipulating data in a DataFrame. Some common functions include:\n",
    "\n",
    "1. **`head()` and `tail()`:** These functions allow you to view the first or last n rows of the DataFrame, respectively. They are useful for quickly inspecting the structure and contents of a DataFrame.\n",
    "\n",
    "2. **`info()`:** Provides a concise summary of the DataFrame, including the data types of each column and the number of non-null values.\n",
    "\n",
    "3. **`describe()`:** Generates descriptive statistics for numerical columns in the DataFrame, such as count, mean, standard deviation, minimum, maximum, and quartile values.\n",
    "\n",
    "4. **`shape`:** Returns a tuple representing the dimensions of the DataFrame (number of rows, number of columns).\n",
    "\n",
    "5. **`loc[]` and `iloc[]`:** These indexing methods allow you to access rows and columns by label (`loc[]`) or integer index (`iloc[]`). They are useful for selecting specific rows or columns based on their labels or positions.\n",
    "\n",
    "6. **`drop()`:** Allows you to remove rows or columns from the DataFrame based on their labels or positions.\n",
    "\n",
    "7. **`fillna()`:** Fills missing (NaN) values in the DataFrame with specified values or methods.\n",
    "\n",
    "8. **`groupby()`:** Allows you to group data in the DataFrame based on one or more columns, and perform operations (e.g., aggregation, transformation) on the grouped data.\n",
    "\n",
    "9. **`merge()` and `join()`:** Functions for combining multiple DataFrames based on common columns or indices.\n",
    "\n",
    "10. **`sort_values()`:** Sorts the DataFrame by the values in one or more columns.\n",
    "\n",
    "11. **`pivot_table()`:** Creates a pivot table from the DataFrame, allowing you to summarize and aggregate data based on one or more columns.\n",
    "\n",
    "12. **`apply()`:** Applies a function along either axis of the DataFrame.\n",
    "\n",
    "Here's an example of when you might use the `groupby()` function:\n",
    "\"\"\"\n",
    "import pandas as pd\n",
    "\n",
    "# Sample sales data\n",
    "data = {'Product': ['A', 'B', 'C', 'A', 'B', 'C'],\n",
    "        'Category': ['X', 'Y', 'X', 'Y', 'X', 'Y'],\n",
    "        'Revenue': [100, 200, 150, 120, 180, 130]}\n",
    "\n",
    "# Create DataFrame\n",
    "df = pd.DataFrame(data)\n",
    "\n",
    "# Group by 'Category' and calculate total revenue\n",
    "category_revenue = df.groupby('Category')['Revenue'].sum()\n",
    "\n",
    "print(\"Total revenue by category:\")\n",
    "print(category_revenue)\n"
   ]
  },
  {
   "cell_type": "markdown",
   "id": "92fb88bb-f01b-4a00-a1cd-7339073d7566",
   "metadata": {},
   "source": [
    "Q6. Which of the following is mutable in nature Series, DataFrame, Panel?\n",
    "\n",
    "Among Series, DataFrame, and Panel, DataFrame is mutable in nature.\n",
    "\n",
    "- **Series:** A Series is immutable in nature. Once created, you cannot modify the elements of a Series directly. However, you can create a new Series with modified values.\n",
    "\n",
    "- **DataFrame:** A DataFrame is mutable. You can modify the contents of a DataFrame, including adding or removing columns, updating values, or reordering rows.\n",
    "\n",
    "- **Panel:** Panels were deprecated in Pandas version 0.25.0, and they are no longer recommended for general use. However, similar to DataFrames, Panels were also mutable in nature. They could be modified by adding or removing items along one or more axes.\n",
    "\n",
    "Since Panels are no longer recommended for general use and DataFrame is mutable, the correct answer to your question would be **DataFrame**."
   ]
  },
  {
   "cell_type": "code",
   "execution_count": 14,
   "id": "cf862fa6-3596-4523-9ce4-be3aad76d394",
   "metadata": {},
   "outputs": [
    {
     "name": "stdout",
     "output_type": "stream",
     "text": [
      "   Column1 Column2\n",
      "0       10       X\n",
      "1       20       Y\n",
      "2       30       Z\n"
     ]
    }
   ],
   "source": [
    "'''Q7. Create a DataFrame using multiple Series. Explain with an example.'''\n",
    "import pandas as pd\n",
    "\n",
    "# Creating multiple Series\n",
    "series1 = pd.Series([10, 20, 30])\n",
    "series2 = pd.Series(['X', 'Y', 'Z'])\n",
    "\n",
    "# Creating a DataFrame using the Series\n",
    "df = pd.DataFrame({'Column1': series1, 'Column2': series2})\n",
    "\n",
    "# Print the DataFrame\n",
    "print(df)\n"
   ]
  }
 ],
 "metadata": {
  "kernelspec": {
   "display_name": "Python 3 (ipykernel)",
   "language": "python",
   "name": "python3"
  },
  "language_info": {
   "codemirror_mode": {
    "name": "ipython",
    "version": 3
   },
   "file_extension": ".py",
   "mimetype": "text/x-python",
   "name": "python",
   "nbconvert_exporter": "python",
   "pygments_lexer": "ipython3",
   "version": "3.10.8"
  }
 },
 "nbformat": 4,
 "nbformat_minor": 5
}
