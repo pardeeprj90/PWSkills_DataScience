{
 "cells": [
  {
   "cell_type": "markdown",
   "id": "b69c417e-5881-4e7c-a9bc-08c20d25c9eb",
   "metadata": {},
   "source": [
    "## Q1. Which keyword is used to create a function? Create a function to return a list of odd numbers in the range of 1 to 25."
   ]
  },
  {
   "cell_type": "markdown",
   "id": "17cdf973-7940-4233-963a-113b8a4b3f3a",
   "metadata": {},
   "source": [
    "def() keyword is used to create a python function"
   ]
  },
  {
   "cell_type": "code",
   "execution_count": 18,
   "id": "0c45339f-223c-4c18-958a-f9b12995d3b3",
   "metadata": {},
   "outputs": [],
   "source": [
    "def listOfOddNumber(rangeNum1,rangeNum2):\n",
    "    numList=[]\n",
    "    [numList.append(i) for i in range(rangeNum1,rangeNum2+1) if i%2!=0]\n",
    "    return numList"
   ]
  },
  {
   "cell_type": "code",
   "execution_count": 19,
   "id": "a644ad14-2b74-43a1-92cc-2198e1b21cc3",
   "metadata": {},
   "outputs": [
    {
     "data": {
      "text/plain": [
       "[1, 3, 5, 7, 9, 11, 13, 15, 17, 19, 21, 23, 25]"
      ]
     },
     "execution_count": 19,
     "metadata": {},
     "output_type": "execute_result"
    }
   ],
   "source": [
    "listOfOddNumber(1,25)"
   ]
  },
  {
   "cell_type": "markdown",
   "id": "d811df47-7658-409b-a09d-2d091ea6991c",
   "metadata": {},
   "source": [
    "## Q2. Why *args and **kwargs is used in some functions? Create a function each for *args and **kwargs to demonstrate their use."
   ]
  },
  {
   "cell_type": "markdown",
   "id": "ff03d241-719d-419d-923a-bded33b68d91",
   "metadata": {},
   "source": [
    "*args:- is used when we are not sure how many arguments we will get as input at runtime, so  \n",
    " in order to resolve such scenarios we use *args."
   ]
  },
  {
   "cell_type": "code",
   "execution_count": 24,
   "id": "07af6121-f848-4167-94c8-11f44116630a",
   "metadata": {},
   "outputs": [],
   "source": [
    "def sumOfNumbers(*args):\n",
    "    sum=0\n",
    "    for i in args:\n",
    "        sum+=i\n",
    "    return sum"
   ]
  },
  {
   "cell_type": "code",
   "execution_count": 26,
   "id": "6a8e266a-09ec-4a0f-ab7f-67f202cca387",
   "metadata": {},
   "outputs": [
    {
     "data": {
      "text/plain": [
       "2544771"
      ]
     },
     "execution_count": 26,
     "metadata": {},
     "output_type": "execute_result"
    }
   ],
   "source": [
    "sumOfNumbers(1,2544556,46,78,90)"
   ]
  },
  {
   "cell_type": "markdown",
   "id": "02e4eb1d-d9f4-4a1b-8095-287f5fedbc5b",
   "metadata": {},
   "source": [
    "**kwargs is passed when we have to pass arguments in (key value) pairs."
   ]
  },
  {
   "cell_type": "code",
   "execution_count": 28,
   "id": "9b4ff118-4375-462a-94d2-50cb50ce0803",
   "metadata": {},
   "outputs": [],
   "source": [
    "def print_kwargs(**kwargs):\n",
    "    for key, value in kwargs.items():\n",
    "        print(f\"{key} = {value}\")"
   ]
  },
  {
   "cell_type": "code",
   "execution_count": 29,
   "id": "0e85b420-d200-4615-85f9-ffe7b15d2102",
   "metadata": {},
   "outputs": [
    {
     "name": "stdout",
     "output_type": "stream",
     "text": [
      "name = Pardeep\n",
      "Age = 32\n",
      "Occupation = Test Engineer\n",
      "CourseName = Data Science Imapact Batch\n"
     ]
    }
   ],
   "source": [
    "print_kwargs(name=\"Pardeep\", Age=\"32\", Occupation=\"Test Engineer\", CourseName=\"Data Science Imapact Batch\")"
   ]
  },
  {
   "cell_type": "markdown",
   "id": "931f9e58-8d8a-4159-8a95-7850e9531f6c",
   "metadata": {},
   "source": [
    "## Q3. What is an iterator in python? Name the method used to initialise the iterator object and the method used for iteration. Use these methods to print the first five elements of the given list [2,4, 6, 8, 10, 12, 14,16, 18, 20]."
   ]
  },
  {
   "cell_type": "markdown",
   "id": "1eb3ad1d-d213-4bdd-8a4b-048b4c217e51",
   "metadata": {},
   "source": [
    "An iterator is a python object which can be iterated (looped) uplon. it is used to access collection \n",
    "of elements one by one.\n",
    "The iter() method is used to initialize an iterator object, which returns an iterator for a given object.\n",
    "The next() method is used for iteration. It returns the next element of the iterator."
   ]
  },
  {
   "cell_type": "code",
   "execution_count": 8,
   "id": "f4ee1272-a3c6-4bd4-b54f-ca2883161864",
   "metadata": {},
   "outputs": [
    {
     "name": "stdout",
     "output_type": "stream",
     "text": [
      "2\n",
      "4\n",
      "6\n",
      "8\n",
      "10\n"
     ]
    }
   ],
   "source": [
    "# Programe to iterate list of elements\n",
    "l = [2,4, 6, 8, 10, 12, 14,16, 18, 20]\n",
    "my_iterator = iter(l)\n",
    "for i in range(5):\n",
    "    print(next(my_iterator))"
   ]
  },
  {
   "cell_type": "markdown",
   "id": "4ca54b39-43fc-46b7-9fd4-22cc69d566f1",
   "metadata": {},
   "source": [
    "## Q4. What is a generator function in python? Why yield keyword is used? Give an example of a generator function."
   ]
  },
  {
   "cell_type": "markdown",
   "id": "dc82e343-ec33-4e82-96d1-a4145312ddb2",
   "metadata": {},
   "source": [
    "Generator function is a function which will return value one by one instead of all in one go.\n",
    "generator functions use the \"yield\" keyword to temporarily pause the function and return a value, \n",
    "but maintain the state of the function so that it can be resumed from where it left off when called \n",
    "again.\n",
    "The \"yield\" keyword is used to indicate that the function is a generator function and to return a value from the generator. When the \"yield\" keyword is encountered in the function, the function will return the value and pause execution, allowing the caller to use the value. When the generator is called again, execution will resume from where it left off, using the existing state of the function to generate the next value."
   ]
  },
  {
   "cell_type": "code",
   "execution_count": 65,
   "id": "55efd3d8-2b43-4ff4-9b6c-95c2c177f61f",
   "metadata": {},
   "outputs": [],
   "source": [
    "def count_text(num):\n",
    "    count=1\n",
    "    while count<=num:\n",
    "        yield count\n",
    "        count=count+1        "
   ]
  },
  {
   "cell_type": "code",
   "execution_count": 17,
   "id": "ca389385-d2fa-4064-9fd1-5a1447af1886",
   "metadata": {},
   "outputs": [
    {
     "name": "stdout",
     "output_type": "stream",
     "text": [
      "1\n",
      "2\n",
      "3\n",
      "4\n",
      "5\n",
      "6\n",
      "7\n",
      "8\n",
      "9\n",
      "10\n"
     ]
    }
   ],
   "source": [
    "count_ = count_text(10)\n",
    "for i in count_:\n",
    "    print(i)"
   ]
  },
  {
   "cell_type": "markdown",
   "id": "eac7e0b6-001a-4d36-a59e-8f07793af720",
   "metadata": {},
   "source": [
    "## Q5. Create a generator function for prime numbers less than 1000. Use the next() method to print the first 20 prime numbers."
   ]
  },
  {
   "cell_type": "code",
   "execution_count": 68,
   "id": "960ace47-e19a-466d-a3ed-94ece42ac5cd",
   "metadata": {},
   "outputs": [
    {
     "name": "stdout",
     "output_type": "stream",
     "text": [
      "2\n",
      "3\n",
      "5\n",
      "7\n",
      "11\n",
      "13\n",
      "17\n",
      "19\n",
      "23\n",
      "29\n",
      "31\n",
      "37\n",
      "41\n",
      "43\n",
      "47\n",
      "53\n",
      "59\n",
      "61\n",
      "67\n",
      "71\n"
     ]
    }
   ],
   "source": [
    "def checkIsprime(numberRange):\n",
    "    for i in range(1, numberRange+1):\n",
    "        factorCount = 0\n",
    "        for j in range(1, i+1):\n",
    "            if (i % j) == 0:\n",
    "                factorCount += 1\n",
    "            \n",
    "        if factorCount == 2:\n",
    "            yield i\n",
    "\n",
    "primeNumber = checkIsprime(1000)\n",
    "count = 0\n",
    "for i in range (1,21):\n",
    "    print(next(primeNumber))"
   ]
  },
  {
   "cell_type": "markdown",
   "id": "1b50c03c-f961-4f73-bbc0-b92f18c2283b",
   "metadata": {},
   "source": [
    "## Q6. Write a python program to print the first 10 Fibonacci numbers using a while loop."
   ]
  },
  {
   "cell_type": "code",
   "execution_count": 73,
   "id": "d9c301a5-ecf0-45ae-a455-64325af73150",
   "metadata": {},
   "outputs": [
    {
     "name": "stdout",
     "output_type": "stream",
     "text": [
      "0\n",
      "1\n",
      "1\n",
      "2\n",
      "3\n",
      "5\n",
      "8\n",
      "13\n",
      "21\n",
      "34\n"
     ]
    }
   ],
   "source": [
    "def printFibnocci(num):\n",
    "    a,b=0,1\n",
    "    counter = 0\n",
    "    sum=0\n",
    "    \n",
    "    while counter < num:\n",
    "        print(sum)\n",
    "        sum=a+b\n",
    "        b=a\n",
    "        a=sum\n",
    "        counter+=1\n",
    "        \n",
    "printFibnocci(10)  "
   ]
  },
  {
   "cell_type": "markdown",
   "id": "3753b18e-a805-4f79-966a-4ae2b365aa4b",
   "metadata": {},
   "source": [
    "## Q7. Write a List Comprehension to iterate through the given string: ‘pwskills’. Expected output: ['p', 'w', 's', 'k', 'i', 'l', 'l', 's']"
   ]
  },
  {
   "cell_type": "code",
   "execution_count": 74,
   "id": "1b16de44-1774-4111-acfd-4b36151787f8",
   "metadata": {},
   "outputs": [
    {
     "data": {
      "text/plain": [
       "['p', 'w', 's', 'k', 'i', 'l', 'l', 's']"
      ]
     },
     "execution_count": 74,
     "metadata": {},
     "output_type": "execute_result"
    }
   ],
   "source": [
    "l='pwskills'\n",
    "[i for i in l]"
   ]
  },
  {
   "cell_type": "markdown",
   "id": "5116dad7-fcad-4df9-803b-dd407e61fd0b",
   "metadata": {},
   "source": [
    "## Q8. Write a python program to check whether a given number is Palindrome or not? using a while loop."
   ]
  },
  {
   "cell_type": "code",
   "execution_count": 14,
   "id": "02b8eaf0-f330-4c48-a362-35ebf90e65c4",
   "metadata": {},
   "outputs": [],
   "source": [
    "def isPalindrome(number):\n",
    "    temp = number\n",
    "    reverse_number = 0\n",
    "\n",
    "    while temp > 0:\n",
    "        remainder = temp % 10\n",
    "        reverse_number = (reverse_number * 10) + remainder\n",
    "        temp = temp // 10\n",
    "        \n",
    "    if number == reverse_number:\n",
    "        print(number, \"is a palindrome\")\n",
    "    else:\n",
    "        print(number, \"is not a palindrome\")\n"
   ]
  },
  {
   "cell_type": "code",
   "execution_count": 17,
   "id": "2380c3a0-2069-4be5-9e56-cb5b228dd667",
   "metadata": {},
   "outputs": [
    {
     "name": "stdout",
     "output_type": "stream",
     "text": [
      "121 is a palindrome\n"
     ]
    }
   ],
   "source": [
    "isPalindrome(121)"
   ]
  },
  {
   "cell_type": "markdown",
   "id": "496e8972-c50c-4597-a47a-add224f6e60a",
   "metadata": {},
   "source": [
    "## Q9. Write a code to print odd numbers from 1 to 100 using list comprehension."
   ]
  },
  {
   "cell_type": "code",
   "execution_count": 21,
   "id": "344d4902-b7c0-4cfc-a4cc-36e85bc60f04",
   "metadata": {},
   "outputs": [
    {
     "name": "stdout",
     "output_type": "stream",
     "text": [
      "[1, 3, 5, 7, 9, 11, 13, 15, 17, 19, 21, 23, 25, 27, 29, 31, 33, 35, 37, 39, 41, 43, 45, 47, 49, 51, 53, 55, 57, 59, 61, 63, 65, 67, 69, 71, 73, 75, 77, 79, 81, 83, 85, 87, 89, 91, 93, 95, 97, 99]\n"
     ]
    }
   ],
   "source": [
    "odd_numbers = [i for i in range(1,101) if i%2!=0]\n",
    "print(odd_numbers)"
   ]
  }
 ],
 "metadata": {
  "kernelspec": {
   "display_name": "Python 3 (ipykernel)",
   "language": "python",
   "name": "python3"
  },
  "language_info": {
   "codemirror_mode": {
    "name": "ipython",
    "version": 3
   },
   "file_extension": ".py",
   "mimetype": "text/x-python",
   "name": "python",
   "nbconvert_exporter": "python",
   "pygments_lexer": "ipython3",
   "version": "3.10.8"
  }
 },
 "nbformat": 4,
 "nbformat_minor": 5
}
