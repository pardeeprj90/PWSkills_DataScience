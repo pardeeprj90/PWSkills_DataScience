{
 "cells": [
  {
   "cell_type": "markdown",
   "id": "a78fb132-61f1-48dc-bf01-7a6936e1210f",
   "metadata": {},
   "source": [
    "### Who developed Python?\n",
    "\n",
    "Python was created by Guido van Rossum in the late 1980s and early 1990s. Guido van Rossum, a Dutch programmer, designed Python as a general-purpose programming language with a focus on readability and simplicity. He released the first version of Python (Python 0.9.0) in February 1991."
   ]
  },
  {
   "cell_type": "markdown",
   "id": "4eef49d7-bfc9-4f9f-a39c-6a8c337a6f0c",
   "metadata": {},
   "source": [
    "### 2. Which type of Programming does Python support? \n",
    "\n",
    "Python supports multiple programming paradigms, making it a versatile language. It primarily supports the following programming paradigms:\n",
    "1. Procedural Programming: Python allows you to write programs in a procedural style, where you organize code into functions and procedures that manipulate data.\n",
    "\n",
    "2. Object-Oriented Programming (OOP): Python has extensive support for object-oriented programming. You can define classes and objects, encapsulate data, and use inheritance and polymorphism to create reusable and modular code.\n",
    "\n",
    "3. Functional Programming: Python supports functional programming concepts, such as first-class functions, higher-order functions, and lambda expressions. It allows you to write code in a functional style, where functions are treated as first-class objects.\n",
    "\n",
    "4. Imperative Programming: Python supports imperative programming, where you write code that specifies a sequence of statements to be executed.\n",
    "\n",
    "5. Event-Driven Programming: Python provides libraries and frameworks for event-driven programming, allowing you to write code that responds to events and triggers specific actions.\n",
    "\n",
    "6. Metaprogramming: Python offers metaprogramming capabilities, allowing you to modify or generate code dynamically during runtime.\n",
    "\n",
    "Python's flexibility in supporting different programming paradigms is one of its strengths, as it enables developers to choose the most suitable approach for their specific use cases."
   ]
  },
  {
   "cell_type": "markdown",
   "id": "4c2095ca-ffbc-47e5-b693-abbb7f8d8696",
   "metadata": {},
   "source": [
    "### 3) Is Python case sensitive when dealing with identifiers? \n",
    "\n",
    "Yes, Python is case-sensitive when it comes to identifiers. This means that Python treats uppercase and lowercase letters as distinct characters, and the casing of identifiers matters."
   ]
  },
  {
   "cell_type": "markdown",
   "id": "8c6df674-33bd-40e7-bbd8-838b12e63295",
   "metadata": {},
   "source": [
    "### 4) What is the correct extension of the Python file?\n",
    "The correct extension for Python files is .py."
   ]
  },
  {
   "cell_type": "markdown",
   "id": "28d9b510-3825-4af6-ac87-7f8099655f4b",
   "metadata": {},
   "source": [
    "### 5) Is Python code compiled or interpreted? \n",
    "Python is an interpreted programming language. When you run a Python program, the Python interpreter reads and executes the code line by line, without prior compilation into machine code.\n",
    "\n",
    "However, Python does include a compilation step that occurs behind the scenes. When you execute a Python script or module, the Python interpreter first translates the source code into an intermediate representation called bytecode. This bytecode is then executed by the interpreter's runtime environment."
   ]
  },
  {
   "cell_type": "markdown",
   "id": "623c8172-ab24-417b-b5b7-6112907fab3c",
   "metadata": {},
   "source": [
    "### 6)  Name a few blocks of code used to define in Python language?\n",
    "\n",
    "In Python, there are several blocks of code that are defined using indentation. These blocks of code help define the structure and scope of various constructs in the language. Some commonly used blocks of code in Python include:\n",
    "\n",
    "6.1) Function Definitions: \n",
    "Functions in Python are defined using the def keyword followed by a function name, parentheses for parameters, and a colon. The indented block following the function definition contains the function's body.\n",
    "\n",
    "def my_function():\n",
    "            Code block for function body\n",
    "\n",
    "6.2) Conditional Statements: \n",
    "Conditional statements like if, elif (else if), and else are used to control the flow of execution based on conditions. The code block under each condition is indented.\n",
    "\n",
    "if condition1:\n",
    "         Code block for condition1\n",
    "else:\n",
    "     Code block for all other cases\n",
    "\n",
    "6.3) Looping Constructs: Loops such as for and while are used to repeat a block of code multiple times.\n",
    "\n",
    "for item in iterable:\n",
    "    Code block executed for each item in the iterable\n",
    "\n",
    "while condition:\n",
    "    Code block executed as long as the condition is true\n",
    "\n",
    "6.4) Class Definitions: \n",
    "Classes in Python encapsulate data and behaviour. They are defined using the class keyword, followed by the class name and a colon. The indented block following the class definition contains the class methods and attributes.\n",
    "\n",
    "class MyClass:\n",
    "    block defining class methods and attributes\n",
    "\n",
    "6.5) Exception Handling: \n",
    "Exception handling allows you to handle and recover from errors or exceptional conditions. The try, except, finally, and else blocks are used for this purpose.\n",
    "\n",
    "try:\n",
    "    Code block where exceptions may occur\n",
    "except Exception_Type:\n",
    "    Code block to handle specific exception type\n",
    "finally:\n",
    "    Code block always executed, whether an exception occurs or not\n"
   ]
  },
  {
   "cell_type": "markdown",
   "id": "65b4040a-7e27-4173-87b3-89511facedeb",
   "metadata": {},
   "source": [
    "### 7) State a character used to give single-line comments in Python?  \n",
    "In Python, the character used to indicate a single-line comment is the hash symbol #. "
   ]
  },
  {
   "cell_type": "markdown",
   "id": "c4c0d503-18dd-4fc4-89c7-c9aaf8911798",
   "metadata": {},
   "source": [
    "### 8) Mention functions which can help us to find the version mers and functions. \n",
    "You can use sys.version to retrieve a string containing the Python version."
   ]
  },
  {
   "cell_type": "markdown",
   "id": "15b0e595-d527-42de-8e52-38966c545826",
   "metadata": {},
   "source": [
    "### 9) Python supports the creation of anonymous functions at runtime, using a construct called.\n",
    "Python supports the creation of anonymous functions at runtime using a construct called \"lambda\" functions."
   ]
  },
  {
   "cell_type": "markdown",
   "id": "6d8697fd-6190-4851-ad6d-776e7bdeae68",
   "metadata": {},
   "source": [
    "### 10) What does pip stand for python? \n",
    "The term \"pip\" in Python stands for \"pip installs packages\" or \"Pip Installs Packages.\" Pip is a package management system used for installing, managing, and uninstalling Python packages and libraries."
   ]
  },
  {
   "cell_type": "markdown",
   "id": "0f9a73b0-70e8-4022-a54e-198cca7abadf",
   "metadata": {},
   "source": [
    "### 11) Mention a few built-in functions in python?\n",
    "Here are some commonly used built-in functions in Python:\n",
    "\n",
    "print(): Outputs text or variables to the console.\n",
    "\n",
    "len(): Returns the length (number of elements) of an object such as a string, list, or tuple.\n",
    "\n",
    "type(): Returns the type of an object.\n",
    "\n",
    "input(): Reads input from the user via the console.\n",
    "\n",
    "range(): Generates a sequence of numbers within a specified range.\n",
    "\n",
    "int(), float(), str(): Convert a value to an integer, float, or string, respectively.\n",
    "\n",
    "max(), min(): Returns the maximum or minimum value from a sequence or a set of arguments.\n",
    "\n",
    "sum(): Returns the sum of all elements in a sequence.\n",
    "\n",
    "abs(): Returns the absolute value of a number.\n",
    "\n",
    "round(): Rounds a floating-point number to a specified number of decimal places.\n",
    "\n",
    "sorted(): Returns a new sorted list from an iterable.\n",
    "\n",
    "enumerate(): Returns an iterator of tuples containing the index and value of each element in an iterable.\n",
    "\n",
    "zip(): Combines multiple iterables into a single iterator of tuples.\n",
    "\n",
    "any(), all(): Checks if any or all elements in an iterable are true.\n",
    "\n",
    "chr(), ord(): Converts an integer to its corresponding Unicode character, or vice versa.\n",
    "\n",
    "These are just a few examples of the built-in functions available in Python. The Python documentation provides a comprehensive list of all built-in functions and their respective functionalities.\n"
   ]
  },
  {
   "cell_type": "markdown",
   "id": "bc38c8a3-96f7-42dd-a411-83696c261f8b",
   "metadata": {},
   "source": [
    "### 12) What is the maximum possible length of an identifier in Python? \n",
    "In Python, the maximum length of an identifier is not explicitly defined in the language specification. Python allows identifiers to be of arbitrary length"
   ]
  },
  {
   "cell_type": "markdown",
   "id": "b1fa8ce0-60dc-4995-b3ac-401459dfbd5b",
   "metadata": {},
   "source": [
    "### 13) What are the benefits of using Python?\n",
    "Python offers numerous benefits that contribute to its popularity and wide adoption in various domains. Here are some key advantages of using Python:\n",
    "1. Readability and Simplicity\n",
    "2. Cross-platform Compatibility\n",
    "3. Extensive Libraries and Frameworks\n",
    "4. Integration Capabilities\n",
    "5. Scalability\n",
    "6. Testing and Debugging"
   ]
  },
  {
   "cell_type": "markdown",
   "id": "fa33050f-e510-4b0f-b44a-69de801cda4a",
   "metadata": {},
   "source": [
    "### 14) How is memory managed in Python?\n",
    "Memory management in Python is handled automatically through a combination of techniques, including reference counting, garbage collection, and memory allocation."
   ]
  },
  {
   "cell_type": "markdown",
   "id": "33f16c8e-04df-47bb-8c53-7b097c52550a",
   "metadata": {},
   "source": [
    "### 15) How to install Python on Windows and set path variables? 16. Is indentation required in python? \n",
    "\n",
    "1. Visit the official Python website at https://www.python.org/.\n",
    "2. Go to the \"Downloads\" section and click on the \"Python x.x.x\" (replace \"x.x.x\" with the latest version) button.\n",
    "3. On the downloads page, scroll down to the \"Python Releases for Windows\" section and select the appropriate installer based on your system architecture (32-bit or 64-bit).\n",
    "4. Download the installer and run it.\n",
    "5. In the installer, make sure to check the box that says \"Add Python to PATH\" (this will automatically set the path variables).\n",
    "6. Proceed with the installation by following the on-screen instructions.\n",
    "7. Once the installation is complete, open the command prompt (or PowerShell) and type python to check if Python is installed and accessible."
   ]
  }
 ],
 "metadata": {
  "kernelspec": {
   "display_name": "Python 3 (ipykernel)",
   "language": "python",
   "name": "python3"
  },
  "language_info": {
   "codemirror_mode": {
    "name": "ipython",
    "version": 3
   },
   "file_extension": ".py",
   "mimetype": "text/x-python",
   "name": "python",
   "nbconvert_exporter": "python",
   "pygments_lexer": "ipython3",
   "version": "3.10.8"
  }
 },
 "nbformat": 4,
 "nbformat_minor": 5
}
