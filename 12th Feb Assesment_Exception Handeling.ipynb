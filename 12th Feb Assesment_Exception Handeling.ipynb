{
 "cells": [
  {
   "cell_type": "markdown",
   "id": "d2007261-e173-4af6-8b63-bf6cc19ddd26",
   "metadata": {},
   "source": [
    "### Q1. What is an Exception in python? Write the difference between Exceptions and syntax errors.\n",
    "\n",
    "An exception is an event that occurs during the execution of a program that disrupts the normal flow of instructions. When an exception occurs, the interpreter interrupts the normal execution of the program and jumps to a special code block known as an exception handler. Exception handling allows the program to deal with unexpected situations gracefully rather than crashing.\n",
    "\n",
    "#### Difference between Exceptions and Syntax Errors:\n",
    "\n",
    "Exceptions: These occur during the runtime of a program and are raised when the interpreter encounters an error in the program logic or when an external event occurs that disrupts the normal flow.\n",
    "Examples: ZeroDivisionError, FileNotFoundError, TypeError, etc.\n",
    "\n",
    "Syntax Errors: These occur during the parsing phase, before the program is executed. They are caused by errors in the syntax of the code.\n",
    "Examples: Misspelled keywords, missing colons, incorrect indentation, etc"
   ]
  },
  {
   "cell_type": "markdown",
   "id": "d6a5c52c-b526-4d04-947a-621d2cbcbab0",
   "metadata": {},
   "source": [
    "### Q2.  What happens when an exception is not handled? explain with an example.\n",
    "\n",
    "When an exception is not handled in a Python program, it leads to the termination of the program's normal execution, and an error message known as a traceback is displayed. The traceback provides information about the type of exception that occurred, the location in the code where the exception occurred, and the sequence of function calls that led to the exception."
   ]
  },
  {
   "cell_type": "code",
   "execution_count": 2,
   "id": "4fe6c278-15ce-4bb7-9e00-ee04dd809c93",
   "metadata": {},
   "outputs": [
    {
     "ename": "ZeroDivisionError",
     "evalue": "division by zero",
     "output_type": "error",
     "traceback": [
      "\u001b[0;31m---------------------------------------------------------------------------\u001b[0m",
      "\u001b[0;31mZeroDivisionError\u001b[0m                         Traceback (most recent call last)",
      "Cell \u001b[0;32mIn[2], line 7\u001b[0m\n\u001b[1;32m      4\u001b[0m     \u001b[38;5;28;01mreturn\u001b[39;00m result\n\u001b[1;32m      6\u001b[0m \u001b[38;5;66;03m# Calling the function with a potential division by zero\u001b[39;00m\n\u001b[0;32m----> 7\u001b[0m result \u001b[38;5;241m=\u001b[39m \u001b[43mdivide_numbers\u001b[49m\u001b[43m(\u001b[49m\u001b[38;5;241;43m10\u001b[39;49m\u001b[43m,\u001b[49m\u001b[43m \u001b[49m\u001b[38;5;241;43m0\u001b[39;49m\u001b[43m)\u001b[49m\n\u001b[1;32m      8\u001b[0m \u001b[38;5;28mprint\u001b[39m(\u001b[38;5;124m\"\u001b[39m\u001b[38;5;124mResult:\u001b[39m\u001b[38;5;124m\"\u001b[39m, result)\n",
      "Cell \u001b[0;32mIn[2], line 3\u001b[0m, in \u001b[0;36mdivide_numbers\u001b[0;34m(x, y)\u001b[0m\n\u001b[1;32m      2\u001b[0m \u001b[38;5;28;01mdef\u001b[39;00m \u001b[38;5;21mdivide_numbers\u001b[39m(x, y):\n\u001b[0;32m----> 3\u001b[0m     result \u001b[38;5;241m=\u001b[39m \u001b[43mx\u001b[49m\u001b[43m \u001b[49m\u001b[38;5;241;43m/\u001b[39;49m\u001b[43m \u001b[49m\u001b[43my\u001b[49m\n\u001b[1;32m      4\u001b[0m     \u001b[38;5;28;01mreturn\u001b[39;00m result\n",
      "\u001b[0;31mZeroDivisionError\u001b[0m: division by zero"
     ]
    }
   ],
   "source": [
    "\n",
    "# Example with an unhandled exception\n",
    "def divide_numbers(x, y):\n",
    "    result = x / y\n",
    "    return result\n",
    "\n",
    "# Calling the function with a potential division by zero\n",
    "result = divide_numbers(10, 0)\n",
    "print(\"Result:\", result)"
   ]
  },
  {
   "cell_type": "markdown",
   "id": "9882f6d9-cab7-492d-9f9c-1c999560b02a",
   "metadata": {},
   "source": [
    "#### Q3 & 4. Which python statements are used to catch and handle exceptions? Explain with an example.\n",
    "In Python, the try, except, else, and finally statements are used for exception handling. These statements allow you to catch and handle exceptions gracefully, providing a way to deal with unexpected errors during the execution of code.\n",
    "\n",
    "#### Try and except:\n",
    "The try block contains the code that may raise an exception. If an exception occurs within the try block, the corresponding except block is executed to handle the exception.\n"
   ]
  },
  {
   "cell_type": "code",
   "execution_count": 3,
   "id": "ef0e8a56-9f27-4a2f-aa51-e7ac5f8603f8",
   "metadata": {},
   "outputs": [
    {
     "name": "stdout",
     "output_type": "stream",
     "text": [
      "Error: division by zero\n",
      "Cannot divide by zero.\n"
     ]
    }
   ],
   "source": [
    "# Example with try and except\n",
    "def divide_numbers(x, y):\n",
    "    try:\n",
    "        result = x / y\n",
    "        print(\"Result:\", result)\n",
    "        \n",
    "    except ZeroDivisionError as e:\n",
    "        print(\"Error:\", e)\n",
    "        print(\"Cannot divide by zero.\")\n",
    "\n",
    "# Calling the function with a potential division by zero\n",
    "divide_numbers(10, 0)"
   ]
  },
  {
   "cell_type": "code",
   "execution_count": 5,
   "id": "de8daf3d-6d2a-4430-9ea0-0676201c4b5c",
   "metadata": {},
   "outputs": [
    {
     "name": "stdout",
     "output_type": "stream",
     "text": [
      "Result: 5.0\n"
     ]
    }
   ],
   "source": [
    "# else: The else block is executed if no exception occurs in the try block. It contains code that should be executed \n",
    "# when there are no exceptions.\n",
    "\n",
    "# Example with try, except, and else\n",
    "def divide_numbers(x, y):\n",
    "    try:\n",
    "        result = x / y\n",
    "    except ZeroDivisionError as e:\n",
    "        print(\"Error:\", e)\n",
    "        print(\"Cannot divide by zero.\")\n",
    "    else:\n",
    "        print(\"Result:\", result)\n",
    "\n",
    "# Calling the function with a potential division by zero\n",
    "divide_numbers(10, 2)"
   ]
  },
  {
   "cell_type": "code",
   "execution_count": 8,
   "id": "c937f912-7e13-45af-aeff-02107c72dc90",
   "metadata": {},
   "outputs": [
    {
     "name": "stdout",
     "output_type": "stream",
     "text": [
      "Error: division by zero\n",
      "Cannot divide by zero.\n",
      "Execution completed.\n"
     ]
    }
   ],
   "source": [
    "# The finally block contains code that will be executed no matter what, whether an exception occurs or not. \n",
    "# It is commonly used for cleanup operations.\n",
    "# Example with try, except, and finally\n",
    "def divide_numbers(x, y):\n",
    "    try:\n",
    "        result = x / y\n",
    "        \n",
    "    except ZeroDivisionError as e:\n",
    "        print(\"Error:\", e)\n",
    "        print(\"Cannot divide by zero.\")\n",
    "        \n",
    "    else:\n",
    "        print(\"Result:\", result)\n",
    "        \n",
    "    finally:\n",
    "        print(\"Execution completed.\")\n",
    "\n",
    "# Calling the function with a potential division by zero\n",
    "divide_numbers(10, 0)"
   ]
  },
  {
   "cell_type": "markdown",
   "id": "df3379f4-9949-4eb9-a8cc-612bfc175dc6",
   "metadata": {},
   "source": [
    "### Q5. What are custom exceptions in python? why do we need Custom exception? Explain with example.\n",
    "In Python, custom exceptions are user-defined exception classes that extend the base Exception class or one of its subclasses. These exceptions are created to handle specific error conditions that are not adequately represented by the built-in exception classes. By defining custom exceptions, programmers can create a more meaningful and structured way to handle application-specific errors."
   ]
  },
  {
   "cell_type": "code",
   "execution_count": 19,
   "id": "2b056962-a3ec-48e7-b027-19cd64b734a0",
   "metadata": {},
   "outputs": [],
   "source": [
    "class ValidateAgeException(Exception):\n",
    "    def __init__(self, msg):\n",
    "        self.msg = msg\n",
    "\n",
    "def validateAge(age):\n",
    "    if age < 0:\n",
    "        raise ValidateAgeException(f\"Entered {age} is not valid.\")\n",
    "  \n",
    "    elif age > 200:   \n",
    "        raise ValidateAgeException(f\"Entered {age} is above 200\")\n",
    "    else:\n",
    "        print(f \"Entered"
   ]
  },
  {
   "cell_type": "code",
   "execution_count": 20,
   "id": "15281148-5dbc-4acb-a4d5-175a568c7966",
   "metadata": {},
   "outputs": [
    {
     "name": "stdin",
     "output_type": "stream",
     "text": [
      "Enter age:-  199\n"
     ]
    },
    {
     "name": "stdout",
     "output_type": "stream",
     "text": [
      "199\n"
     ]
    }
   ],
   "source": [
    "try:\n",
    "    age = int(input(\"Enter age:- \"))\n",
    "    validateAge(age)\n",
    "    \n",
    "except Exception as e:\n",
    "    print(e)"
   ]
  }
 ],
 "metadata": {
  "kernelspec": {
   "display_name": "Python 3 (ipykernel)",
   "language": "python",
   "name": "python3"
  },
  "language_info": {
   "codemirror_mode": {
    "name": "ipython",
    "version": 3
   },
   "file_extension": ".py",
   "mimetype": "text/x-python",
   "name": "python",
   "nbconvert_exporter": "python",
   "pygments_lexer": "ipython3",
   "version": "3.10.8"
  }
 },
 "nbformat": 4,
 "nbformat_minor": 5
}
