{
 "cells": [
  {
   "cell_type": "code",
   "execution_count": 18,
   "id": "964019fa-2386-4247-967d-d697785ccb3e",
   "metadata": {},
   "outputs": [
    {
     "data": {
      "text/plain": [
       "40"
      ]
     },
     "execution_count": 18,
     "metadata": {},
     "output_type": "execute_result"
    }
   ],
   "source": [
    "### Q1, Create a vehicle class with an init method having instance variables as name_of_vehicle, max_speed\n",
    "### and average_of_vehicle.\n",
    "\n",
    "class Vehicle:\n",
    "    def __init__(self, name_of_vehicle,max_speed,average_of_vehicle):\n",
    "        self.vehicle_Name= name_of_vehicle\n",
    "        self.speed = max_speed\n",
    "        self.average = average_of_vehicle\n",
    "\n",
    "vehicle = Vehicle(\"Alto K10\", 200, 40)\n",
    "vehicle.vehicle_Name\n",
    "vehicle.speed\n",
    "vehicle.average"
   ]
  },
  {
   "cell_type": "code",
   "execution_count": 24,
   "id": "f58c80cc-3058-4335-b62f-ee45e542adb9",
   "metadata": {},
   "outputs": [
    {
     "name": "stdout",
     "output_type": "stream",
     "text": [
      "('Alto K10', 5)\n"
     ]
    }
   ],
   "source": [
    "### Q2. Create a child class car from the vehicle class created in Que 1, which will inherit the vehicle class.\n",
    "### Create a method named seating_capacity which takes capacity as an argument and returns the name of\n",
    "### the vehicle and its seating capacity.\n",
    "\n",
    "class Car(Vehicle):\n",
    "    def seating_capacity(self, seating_Capacity):\n",
    "        return self.vehicle_Name,seating_Capacity\n",
    "\n",
    "car =Car(\"Alto K10\", 200, 40)\n",
    "print(car.seating_capacity(5))"
   ]
  },
  {
   "cell_type": "code",
   "execution_count": 25,
   "id": "5d7fabb1-ed02-49f0-9b1d-b29bda5c064b",
   "metadata": {},
   "outputs": [
    {
     "name": "stdout",
     "output_type": "stream",
     "text": [
      "Method 1 from Parent1\n",
      "Method 2 from Parent2\n",
      "Method 3 in Child\n"
     ]
    }
   ],
   "source": [
    "# Q3. What is multiple inheritance? Write a python code to demonstrate multiple inheritance.\n",
    "class Parent1:\n",
    "    def method1(self):\n",
    "        print(\"Method 1 from Parent1\")\n",
    "\n",
    "class Parent2:\n",
    "    def method2(self):\n",
    "        print(\"Method 2 from Parent2\")\n",
    "\n",
    "class Child(Parent1, Parent2):\n",
    "    def method3(self):\n",
    "        print(\"Method 3 in Child\")\n",
    "\n",
    "# Create an instance of the Child class\n",
    "child = Child()\n",
    "\n",
    "# Access methods from both Parent1 and Parent2\n",
    "child.method1()  # Output: Method 1 from Parent1\n",
    "child.method2()  # Output: Method 2 from Parent2\n",
    "\n",
    "# Access methods from Child class\n",
    "child.method3()  # Output: Method 3 in Child\n"
   ]
  },
  {
   "cell_type": "code",
   "execution_count": 29,
   "id": "4ce73528-431a-4774-b9a5-7ea4b5c05a81",
   "metadata": {},
   "outputs": [
    {
     "name": "stdout",
     "output_type": "stream",
     "text": [
      "Student name: Pardeep\n",
      "Updated student name: Pardeep Kumar\n"
     ]
    }
   ],
   "source": [
    "# Q4. What are getter and setter in python? Create a class and create a getter and a setter method in this\n",
    "# class.\n",
    "class Student:\n",
    "    def __init__(self, name, age):\n",
    "        self.__name = name  # Private attribute\n",
    "        self.__age = age    # Private attribute\n",
    "\n",
    "    # Getter method for name\n",
    "    def get_name(self):\n",
    "        return self.__name\n",
    "\n",
    "    # Setter method for name\n",
    "    def set_name(self, name):\n",
    "        if isinstance(name, str) and len(name) > 0:\n",
    "            self.__name = name\n",
    "        else:\n",
    "            print(\"Invalid name\")\n",
    "            \n",
    "# Creating an instance of the Student class\n",
    "student = Student(\"Pardeep\", 25)\n",
    "\n",
    "# Using the getter methods\n",
    "print(\"Student name:\", student.get_name())\n",
    "\n",
    "\n",
    "# Using the setter methods\n",
    "student.set_name(\"Pardeep Kumar\")\n",
    "\n",
    "\n",
    "# Getting updated values\n",
    "print(\"Updated student name:\", student.get_name())"
   ]
  },
  {
   "cell_type": "code",
   "execution_count": 30,
   "id": "2519e7dc-44e7-4673-acb9-d0b5d3c813d4",
   "metadata": {},
   "outputs": [
    {
     "name": "stdout",
     "output_type": "stream",
     "text": [
      "Message from the Parent class\n",
      "Message from the Child class\n"
     ]
    }
   ],
   "source": [
    "# Q5.What is method overriding in python? Write a python code to demonstrate method overriding.\n",
    "class Parent:\n",
    "    def show_message(self):\n",
    "        print(\"Message from the Parent class\")\n",
    "\n",
    "class Child(Parent):\n",
    "    def show_message(self):  # Method overriding\n",
    "        print(\"Message from the Child class\")\n",
    "\n",
    "# Create instances of both Parent and Child classes\n",
    "parent = Parent()\n",
    "child = Child()\n",
    "\n",
    "# Call the overridden method\n",
    "parent.show_message()  # Output: Message from the Parent class\n",
    "child.show_message()   # Output: Message from the Child class\n"
   ]
  }
 ],
 "metadata": {
  "kernelspec": {
   "display_name": "Python 3 (ipykernel)",
   "language": "python",
   "name": "python3"
  },
  "language_info": {
   "codemirror_mode": {
    "name": "ipython",
    "version": 3
   },
   "file_extension": ".py",
   "mimetype": "text/x-python",
   "name": "python",
   "nbconvert_exporter": "python",
   "pygments_lexer": "ipython3",
   "version": "3.10.8"
  }
 },
 "nbformat": 4,
 "nbformat_minor": 5
}
