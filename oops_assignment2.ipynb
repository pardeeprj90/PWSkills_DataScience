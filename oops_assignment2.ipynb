{
 "cells": [
  {
   "cell_type": "markdown",
   "id": "6bcef11e-e7e3-4f56-8e8c-abf947975577",
   "metadata": {},
   "source": [
    "### Q1. What is Abstraction in OOps? Explain with an example.\n",
    "\n",
    "Abstraction is the method of hiding the unwanted information. We can implement abstraction using abstract class. An abstract class can be considered a blueprint for other classes. It allows us to create a set of methods that must be created within any child classes built from the abstract class.An abstract method is a method that has a declaration but does not have an implementation.\n",
    "By default, Python does not provide abstract classes. Python comes with a module that provides the base for defining Abstract Base classes(ABC) and that module name is ABC. ABC works by decorating methods of the base class as an abstract and then registering concrete classes as implementations of the abstract base. A method becomes abstract when decorated with the keyword @abstractmethod.  "
   ]
  },
  {
   "cell_type": "code",
   "execution_count": 17,
   "id": "fd63fb8d-71f3-43d4-908e-fadf7bd5b6a5",
   "metadata": {},
   "outputs": [
    {
     "name": "stdout",
     "output_type": "stream",
     "text": [
      "I can walk and Run\n",
      "Lion can run with 80 KM/H\n"
     ]
    }
   ],
   "source": [
    "from abc import ABC,abstractmethod\n",
    "# Here we created a abstract class with abstract method move()\n",
    "class Animal(ABC):\n",
    "    @abstractmethod\n",
    "    def move(self):\n",
    "        pass\n",
    "\n",
    "    \n",
    "class Human(Animal):\n",
    "    def move(self):\n",
    "        print(\"I can walk and Run\")\n",
    "\n",
    "class Lion(Animal):\n",
    "    def move(self):\n",
    "        print(\"Lion can run with 80 KM/H\")\n",
    "\n",
    "        \n",
    "h = Human()\n",
    "h.move()\n",
    "\n",
    "L= Lion()\n",
    "L.move()"
   ]
  },
  {
   "cell_type": "markdown",
   "id": "d3df61d8-4f51-4f45-9a9b-c5c6ec765fb9",
   "metadata": {},
   "source": [
    "### Q2. Differentiate between Abstraction and Encapsulation. Explain with an example.\n",
    "1. Abstraction focuses on what an object does while Encapsulation focuses on how the object works internally.\n",
    "2. Abstraction achieved through abstarct classes and abstract methods while Encapsulation achieved through access modifiers in python we use \"__\"\n",
    "3. Abstraction hides the unnecessary implementation details while encapsulation restrict acccess of objects's internal component."
   ]
  },
  {
   "cell_type": "markdown",
   "id": "86a5fefe-6671-423d-a354-488de15f1bcd",
   "metadata": {},
   "source": [
    "### Abstarction example is given in Q1.\n",
    "## Encapsulation example as below"
   ]
  },
  {
   "cell_type": "code",
   "execution_count": 23,
   "id": "ed5645a9-f322-452b-930b-1610ac34dff7",
   "metadata": {},
   "outputs": [
    {
     "ename": "AttributeError",
     "evalue": "'Person' object has no attribute 'age'",
     "output_type": "error",
     "traceback": [
      "\u001b[0;31m---------------------------------------------------------------------------\u001b[0m",
      "\u001b[0;31mAttributeError\u001b[0m                            Traceback (most recent call last)",
      "Cell \u001b[0;32mIn[23], line 15\u001b[0m\n\u001b[1;32m     13\u001b[0m p \u001b[38;5;241m=\u001b[39m Person(\u001b[38;5;124m\"\u001b[39m\u001b[38;5;124mPardeep Kumar\u001b[39m\u001b[38;5;124m\"\u001b[39m,\u001b[38;5;241m32\u001b[39m)\n\u001b[1;32m     14\u001b[0m p\u001b[38;5;241m.\u001b[39mname\n\u001b[0;32m---> 15\u001b[0m \u001b[43mp\u001b[49m\u001b[38;5;241;43m.\u001b[39;49m\u001b[43mage\u001b[49m\n",
      "\u001b[0;31mAttributeError\u001b[0m: 'Person' object has no attribute 'age'"
     ]
    }
   ],
   "source": [
    "class Person:\n",
    "    def __init__(self, name, age):\n",
    "        self.name = name\n",
    "        self.__age = age  # Here we are marking age as private attribute.\n",
    "\n",
    "    def get_age(self):\n",
    "        return self.__age\n",
    "\n",
    "    def set_age(self, age):\n",
    "        if age > 0:\n",
    "            self.__age = age\n",
    "            \n",
    "p = Person(\"Pardeep Kumar\",32)\n",
    "p.name\n",
    "p.age # Here user trying to access age attribute directly so error will \"No attribute\" show \n",
    "# in order to fetch the age detail user can use the get_age method.\n"
   ]
  },
  {
   "cell_type": "code",
   "execution_count": 24,
   "id": "9f6d6694-431b-4865-ad8a-3c8b1879d473",
   "metadata": {},
   "outputs": [
    {
     "data": {
      "text/plain": [
       "32"
      ]
     },
     "execution_count": 24,
     "metadata": {},
     "output_type": "execute_result"
    }
   ],
   "source": [
    "p.get_age()"
   ]
  },
  {
   "cell_type": "code",
   "execution_count": 25,
   "id": "a5e0a5f1-2d01-4940-b088-d6e6f1ac95b5",
   "metadata": {},
   "outputs": [
    {
     "data": {
      "text/plain": [
       "40"
      ]
     },
     "execution_count": 25,
     "metadata": {},
     "output_type": "execute_result"
    }
   ],
   "source": [
    "p.set_age(40)\n",
    "p.get_age()"
   ]
  },
  {
   "cell_type": "markdown",
   "id": "a927d7d7-555e-47fb-ac22-282ead1e98a3",
   "metadata": {},
   "source": [
    "### Q3. What is abc module in python? Why is it used?\n",
    "The \"abc\" module in Python stands for \"Abstract Base Classes.\" It is used to create and work with abstract base classes and abstract methods. Abstract base classes provide a way to define a common interface or contract for a group of related classes, ensuring that certain methods must be implemented by any concrete subclass that derives from the abstract base class.\n"
   ]
  },
  {
   "cell_type": "markdown",
   "id": "62ed80e6-28fc-44a7-aa4a-2a5734787dc1",
   "metadata": {},
   "source": [
    "### Q4. How can we achieve data abstraction?\n",
    "In Python, achieving data abstraction involves encapsulating data within classes and providing a clear and simple interface for working with that data. Here's how you can do it in Python, using simpler language:\n",
    "\n",
    "1. **Create a Class**: Define a class to represent the data or an object. This class acts as a container for the data.\n",
    "\n",
    "2. **Use Private Variables**: Inside the class, use private variables by prefixing their names with double underscores (e.g., `__data`). This makes the variables inaccessible from outside the class.\n",
    "\n",
    "3. **Provide Public Methods**: Create methods (functions) within the class to access and modify the private data. These methods are like \"getters\" to see the data and \"setters\" to change the data. They provide a simple way to interact with the data.\n",
    "\n",
    "4. **Simplify Access**: Ensure that the methods you provide are easy to understand and use. This way, users of your class don't need to know the internal details of the data; they just work with the methods you've defined."
   ]
  },
  {
   "cell_type": "code",
   "execution_count": 30,
   "id": "174f073a-725a-4fa2-801b-848938ceed1e",
   "metadata": {},
   "outputs": [
    {
     "name": "stdout",
     "output_type": "stream",
     "text": [
      "Savings Account Balance: 1500\n",
      "Current Account Balance: 1000\n"
     ]
    }
   ],
   "source": [
    "\n",
    "### Here's a example illustrating data abstraction:\n",
    "from abc import ABC, abstractmethod\n",
    "\n",
    "class BankAccount(ABC):  # Now BankAccount is an abstract class\n",
    "    def __init__(self, account_number, balance):\n",
    "        self.account_number = account_number  # Public attribute\n",
    "        self.balance = balance  # Public attribute\n",
    "\n",
    "    @abstractmethod\n",
    "    def get_balance(self):\n",
    "        pass\n",
    "\n",
    "    @abstractmethod\n",
    "    def deposit(self, amount):\n",
    "        pass\n",
    "\n",
    "    @abstractmethod\n",
    "    def withdraw(self, amount):\n",
    "        pass\n",
    "\n",
    "class SavingsAccount(BankAccount):\n",
    "    def get_balance(self):\n",
    "        return self.balance\n",
    "\n",
    "    def deposit(self, amount):\n",
    "        if amount > 0:\n",
    "            self.balance += amount\n",
    "\n",
    "    def withdraw(self, amount):\n",
    "        if 0 < amount <= self.balance:\n",
    "            self.balance -= amount\n",
    "\n",
    "class CurrentAccount(BankAccount):\n",
    "    def get_balance(self):\n",
    "        return self.balance\n",
    "\n",
    "    def deposit(self, amount):\n",
    "        if amount > 0:\n",
    "            self.balance += amount\n",
    "\n",
    "    def withdraw(self, amount):\n",
    "        if 0 < amount <= self.balance:\n",
    "            self.balance -= amount\n",
    "\n",
    "# Usage\n",
    "savings_account = SavingsAccount(\"12345\", 1000)\n",
    "current_account = CurrentAccount(\"67890\", 2000)\n",
    "\n",
    "# Interacting with accounts\n",
    "savings_account.deposit(500)\n",
    "current_account.withdraw(1000)\n",
    "\n",
    "# Checking balances\n",
    "print(f\"Savings Account Balance: {savings_account.get_balance()}\")\n",
    "print(f\"Current Account Balance: {current_account.get_balance()}\")\n"
   ]
  },
  {
   "cell_type": "markdown",
   "id": "cc2f15bd-1ead-4150-a693-eae71c9563de",
   "metadata": {},
   "source": [
    "### Q5. Can we create an instance of an abstract class? Explain your answer.\n",
    "\n",
    "Wou cannot create an instance of an abstract class. Abstract classes are designed to serve as blueprints \n",
    "for other classes, and they often contain one or more abstract methods, which are methods without any implementation. \n",
    "These abstract methods are meant to be implemented by concrete subclasses. Attempting to create an \n",
    "instance of an abstract class will through type error exception."
   ]
  }
 ],
 "metadata": {
  "kernelspec": {
   "display_name": "Python 3 (ipykernel)",
   "language": "python",
   "name": "python3"
  },
  "language_info": {
   "codemirror_mode": {
    "name": "ipython",
    "version": 3
   },
   "file_extension": ".py",
   "mimetype": "text/x-python",
   "name": "python",
   "nbconvert_exporter": "python",
   "pygments_lexer": "ipython3",
   "version": "3.10.8"
  }
 },
 "nbformat": 4,
 "nbformat_minor": 5
}
